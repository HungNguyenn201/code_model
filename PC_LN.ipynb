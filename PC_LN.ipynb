{
 "cells": [
  {
   "cell_type": "code",
   "execution_count": 1,
   "id": "b1dab173",
   "metadata": {
    "ExecuteTime": {
     "end_time": "2022-11-22T08:49:57.953186Z",
     "start_time": "2022-11-22T08:49:56.707287Z"
    }
   },
   "outputs": [],
   "source": [
    "import os\n",
    "import pandas as pd\n",
    "import numpy as np\n",
    "import pickle\n",
    "import datetime\n",
    "import matplotlib.dates as mdates \n",
    "xformatter = mdates.DateFormatter('%H:%M') # for time axis plots\n",
    "from pickle import load,dump\n",
    "import seaborn as sns\n",
    "import matplotlib.pyplot as plt\n",
    "%matplotlib inline\n",
    "from matplotlib import style\n",
    "style.use('seaborn-whitegrid')\n",
    "np.random.seed(0)\n",
    "from datetime import datetime\n",
    "from datetime import date\n",
    "from datetime import time\n",
    "import warnings\n",
    "warnings.filterwarnings('ignore')\n",
    "from pandas.tseries.frequencies import to_offset\n"
   ]
  },
  {
   "cell_type": "code",
   "execution_count": 2,
   "id": "5c4a0b8c",
   "metadata": {
    "ExecuteTime": {
     "end_time": "2022-11-22T08:49:57.969483Z",
     "start_time": "2022-11-22T08:49:57.955187Z"
    }
   },
   "outputs": [],
   "source": [
    "def take_list_name_feature(df,name_feature): #name_feature: từ khóa trong bộ feature của tham số, VD: bức xạ có từ khóa là Irr\n",
    "    name_columns = df.columns.tolist()\n",
    "    namelist_columns_feature = []\n",
    "    for name in name_columns:   \n",
    "        if name_feature in name:\n",
    "            namelist_columns_feature.append(name)\n",
    "    return namelist_columns_feature"
   ]
  },
  {
   "cell_type": "markdown",
   "id": "0e447bc6",
   "metadata": {},
   "source": [
    "## PhuMy1 "
   ]
  },
  {
   "cell_type": "code",
   "execution_count": 3,
   "id": "18479397",
   "metadata": {
    "ExecuteTime": {
     "end_time": "2022-11-22T08:49:58.015187Z",
     "start_time": "2022-11-22T08:49:57.975502Z"
    }
   },
   "outputs": [],
   "source": [
    "def resample_df(df, resample_time, time_col='TimeStamp'):\n",
    "    \"\"\"\n",
    "    resample_time: `minute`\n",
    "    \"\"\"\n",
    "    resample_df = df.copy()\n",
    "    if resample_time >= 30:\n",
    "        resample_df = resample_df.set_index(\n",
    "            resample_df[time_col] - to_offset(str(resample_time//2)+\"min\"))\n",
    "    resample_df = resample_df.resample(str(resample_time)+'min', label='right').mean()\n",
    "    return resample_df"
   ]
  },
  {
   "cell_type": "code",
   "execution_count": 4,
   "id": "6c7b4882",
   "metadata": {
    "ExecuteTime": {
     "end_time": "2022-11-22T08:49:59.311284Z",
     "start_time": "2022-11-22T08:49:58.017191Z"
    }
   },
   "outputs": [],
   "source": [
    "locninh1 = pd.read_csv('./PM.csv')\n",
    "locninh1['TimeStamp'] = pd.to_datetime(locninh1['TimeStamp'])  "
   ]
  },
  {
   "cell_type": "code",
   "execution_count": 5,
   "id": "6c9987a8",
   "metadata": {
    "ExecuteTime": {
     "end_time": "2022-11-22T08:49:59.357938Z",
     "start_time": "2022-11-22T08:49:59.313262Z"
    }
   },
   "outputs": [
    {
     "data": {
      "text/html": [
       "<div>\n",
       "<style scoped>\n",
       "    .dataframe tbody tr th:only-of-type {\n",
       "        vertical-align: middle;\n",
       "    }\n",
       "\n",
       "    .dataframe tbody tr th {\n",
       "        vertical-align: top;\n",
       "    }\n",
       "\n",
       "    .dataframe thead th {\n",
       "        text-align: right;\n",
       "    }\n",
       "</style>\n",
       "<table border=\"1\" class=\"dataframe\">\n",
       "  <thead>\n",
       "    <tr style=\"text-align: right;\">\n",
       "      <th></th>\n",
       "      <th>TimeStamp</th>\n",
       "      <th>TotW_1</th>\n",
       "      <th>I_GHI_1</th>\n",
       "      <th>T_1</th>\n",
       "      <th>TotW_2</th>\n",
       "      <th>I_GHI_2</th>\n",
       "      <th>T_2</th>\n",
       "      <th>TotW_3</th>\n",
       "      <th>I_GHI_3</th>\n",
       "      <th>T_3</th>\n",
       "    </tr>\n",
       "  </thead>\n",
       "  <tbody>\n",
       "    <tr>\n",
       "      <th>0</th>\n",
       "      <td>2022-09-01 00:00:00</td>\n",
       "      <td>0.0</td>\n",
       "      <td>0.0</td>\n",
       "      <td>25.25638</td>\n",
       "      <td>0.0</td>\n",
       "      <td>0.0</td>\n",
       "      <td>25.44552</td>\n",
       "      <td>0.0</td>\n",
       "      <td>NaN</td>\n",
       "      <td>25.25676</td>\n",
       "    </tr>\n",
       "    <tr>\n",
       "      <th>1</th>\n",
       "      <td>2022-09-01 00:05:00</td>\n",
       "      <td>0.0</td>\n",
       "      <td>0.0</td>\n",
       "      <td>25.23661</td>\n",
       "      <td>0.0</td>\n",
       "      <td>0.0</td>\n",
       "      <td>25.43309</td>\n",
       "      <td>0.0</td>\n",
       "      <td>NaN</td>\n",
       "      <td>25.24522</td>\n",
       "    </tr>\n",
       "    <tr>\n",
       "      <th>2</th>\n",
       "      <td>2022-09-01 00:10:00</td>\n",
       "      <td>0.0</td>\n",
       "      <td>0.0</td>\n",
       "      <td>25.21685</td>\n",
       "      <td>0.0</td>\n",
       "      <td>0.0</td>\n",
       "      <td>25.42067</td>\n",
       "      <td>0.0</td>\n",
       "      <td>NaN</td>\n",
       "      <td>25.23369</td>\n",
       "    </tr>\n",
       "    <tr>\n",
       "      <th>3</th>\n",
       "      <td>2022-09-01 00:15:00</td>\n",
       "      <td>0.0</td>\n",
       "      <td>0.0</td>\n",
       "      <td>25.19709</td>\n",
       "      <td>0.0</td>\n",
       "      <td>0.0</td>\n",
       "      <td>25.40824</td>\n",
       "      <td>0.0</td>\n",
       "      <td>NaN</td>\n",
       "      <td>25.22216</td>\n",
       "    </tr>\n",
       "    <tr>\n",
       "      <th>4</th>\n",
       "      <td>2022-09-01 00:20:00</td>\n",
       "      <td>0.0</td>\n",
       "      <td>0.0</td>\n",
       "      <td>25.17733</td>\n",
       "      <td>0.0</td>\n",
       "      <td>0.0</td>\n",
       "      <td>25.39582</td>\n",
       "      <td>0.0</td>\n",
       "      <td>NaN</td>\n",
       "      <td>25.21062</td>\n",
       "    </tr>\n",
       "    <tr>\n",
       "      <th>...</th>\n",
       "      <td>...</td>\n",
       "      <td>...</td>\n",
       "      <td>...</td>\n",
       "      <td>...</td>\n",
       "      <td>...</td>\n",
       "      <td>...</td>\n",
       "      <td>...</td>\n",
       "      <td>...</td>\n",
       "      <td>...</td>\n",
       "      <td>...</td>\n",
       "    </tr>\n",
       "    <tr>\n",
       "      <th>17554</th>\n",
       "      <td>2022-10-31 22:40:00</td>\n",
       "      <td>0.0</td>\n",
       "      <td>0.0</td>\n",
       "      <td>23.52364</td>\n",
       "      <td>0.0</td>\n",
       "      <td>0.0</td>\n",
       "      <td>23.48669</td>\n",
       "      <td>0.0</td>\n",
       "      <td>NaN</td>\n",
       "      <td>23.63308</td>\n",
       "    </tr>\n",
       "    <tr>\n",
       "      <th>17555</th>\n",
       "      <td>2022-10-31 22:45:00</td>\n",
       "      <td>0.0</td>\n",
       "      <td>0.0</td>\n",
       "      <td>23.49479</td>\n",
       "      <td>0.0</td>\n",
       "      <td>0.0</td>\n",
       "      <td>23.46018</td>\n",
       "      <td>0.0</td>\n",
       "      <td>NaN</td>\n",
       "      <td>23.58709</td>\n",
       "    </tr>\n",
       "    <tr>\n",
       "      <th>17556</th>\n",
       "      <td>2022-10-31 22:50:00</td>\n",
       "      <td>0.0</td>\n",
       "      <td>0.0</td>\n",
       "      <td>23.46593</td>\n",
       "      <td>0.0</td>\n",
       "      <td>0.0</td>\n",
       "      <td>23.43367</td>\n",
       "      <td>0.0</td>\n",
       "      <td>NaN</td>\n",
       "      <td>23.54110</td>\n",
       "    </tr>\n",
       "    <tr>\n",
       "      <th>17557</th>\n",
       "      <td>2022-10-31 22:55:00</td>\n",
       "      <td>0.0</td>\n",
       "      <td>0.0</td>\n",
       "      <td>23.43708</td>\n",
       "      <td>0.0</td>\n",
       "      <td>0.0</td>\n",
       "      <td>23.40715</td>\n",
       "      <td>0.0</td>\n",
       "      <td>NaN</td>\n",
       "      <td>23.49511</td>\n",
       "    </tr>\n",
       "    <tr>\n",
       "      <th>17558</th>\n",
       "      <td>2022-10-31 23:00:00</td>\n",
       "      <td>0.0</td>\n",
       "      <td>0.0</td>\n",
       "      <td>23.40822</td>\n",
       "      <td>0.0</td>\n",
       "      <td>0.0</td>\n",
       "      <td>23.38064</td>\n",
       "      <td>0.0</td>\n",
       "      <td>NaN</td>\n",
       "      <td>23.44911</td>\n",
       "    </tr>\n",
       "  </tbody>\n",
       "</table>\n",
       "<p>17559 rows × 10 columns</p>\n",
       "</div>"
      ],
      "text/plain": [
       "                TimeStamp  TotW_1  I_GHI_1       T_1  TotW_2  I_GHI_2  \\\n",
       "0     2022-09-01 00:00:00     0.0      0.0  25.25638     0.0      0.0   \n",
       "1     2022-09-01 00:05:00     0.0      0.0  25.23661     0.0      0.0   \n",
       "2     2022-09-01 00:10:00     0.0      0.0  25.21685     0.0      0.0   \n",
       "3     2022-09-01 00:15:00     0.0      0.0  25.19709     0.0      0.0   \n",
       "4     2022-09-01 00:20:00     0.0      0.0  25.17733     0.0      0.0   \n",
       "...                   ...     ...      ...       ...     ...      ...   \n",
       "17554 2022-10-31 22:40:00     0.0      0.0  23.52364     0.0      0.0   \n",
       "17555 2022-10-31 22:45:00     0.0      0.0  23.49479     0.0      0.0   \n",
       "17556 2022-10-31 22:50:00     0.0      0.0  23.46593     0.0      0.0   \n",
       "17557 2022-10-31 22:55:00     0.0      0.0  23.43708     0.0      0.0   \n",
       "17558 2022-10-31 23:00:00     0.0      0.0  23.40822     0.0      0.0   \n",
       "\n",
       "            T_2  TotW_3  I_GHI_3       T_3  \n",
       "0      25.44552     0.0      NaN  25.25676  \n",
       "1      25.43309     0.0      NaN  25.24522  \n",
       "2      25.42067     0.0      NaN  25.23369  \n",
       "3      25.40824     0.0      NaN  25.22216  \n",
       "4      25.39582     0.0      NaN  25.21062  \n",
       "...         ...     ...      ...       ...  \n",
       "17554  23.48669     0.0      NaN  23.63308  \n",
       "17555  23.46018     0.0      NaN  23.58709  \n",
       "17556  23.43367     0.0      NaN  23.54110  \n",
       "17557  23.40715     0.0      NaN  23.49511  \n",
       "17558  23.38064     0.0      NaN  23.44911  \n",
       "\n",
       "[17559 rows x 10 columns]"
      ]
     },
     "execution_count": 5,
     "metadata": {},
     "output_type": "execute_result"
    }
   ],
   "source": [
    "locninh1"
   ]
  },
  {
   "cell_type": "code",
   "execution_count": 6,
   "id": "3a78be37",
   "metadata": {
    "ExecuteTime": {
     "end_time": "2022-11-22T08:49:59.389309Z",
     "start_time": "2022-11-22T08:49:59.359442Z"
    }
   },
   "outputs": [],
   "source": [
    "data_ln = locninh1.loc[locninh1['TimeStamp'].dt.date>=date(year=2022,month=10,day=23)]\n",
    "data_ln = data_ln.loc[data_ln['TimeStamp'].dt.date<=date(year=2022,month=10,day=25)]\n",
    "data_ln = data_ln.set_index('TimeStamp')"
   ]
  },
  {
   "cell_type": "code",
   "execution_count": 7,
   "id": "2f848b31",
   "metadata": {
    "ExecuteTime": {
     "end_time": "2022-11-22T08:49:59.404562Z",
     "start_time": "2022-11-22T08:49:59.392832Z"
    }
   },
   "outputs": [],
   "source": [
    "data_ln = data_ln[['TotW_3','I_GHI_3']]"
   ]
  },
  {
   "cell_type": "code",
   "execution_count": 8,
   "id": "7912ffaf",
   "metadata": {
    "ExecuteTime": {
     "end_time": "2022-11-22T08:49:59.419582Z",
     "start_time": "2022-11-22T08:49:59.407570Z"
    }
   },
   "outputs": [
    {
     "data": {
      "text/html": [
       "<div>\n",
       "<style scoped>\n",
       "    .dataframe tbody tr th:only-of-type {\n",
       "        vertical-align: middle;\n",
       "    }\n",
       "\n",
       "    .dataframe tbody tr th {\n",
       "        vertical-align: top;\n",
       "    }\n",
       "\n",
       "    .dataframe thead th {\n",
       "        text-align: right;\n",
       "    }\n",
       "</style>\n",
       "<table border=\"1\" class=\"dataframe\">\n",
       "  <thead>\n",
       "    <tr style=\"text-align: right;\">\n",
       "      <th></th>\n",
       "      <th>TotW_3</th>\n",
       "      <th>I_GHI_3</th>\n",
       "    </tr>\n",
       "    <tr>\n",
       "      <th>TimeStamp</th>\n",
       "      <th></th>\n",
       "      <th></th>\n",
       "    </tr>\n",
       "  </thead>\n",
       "  <tbody>\n",
       "    <tr>\n",
       "      <th>2022-10-23 00:00:00</th>\n",
       "      <td>0.0</td>\n",
       "      <td>NaN</td>\n",
       "    </tr>\n",
       "    <tr>\n",
       "      <th>2022-10-23 00:05:00</th>\n",
       "      <td>0.0</td>\n",
       "      <td>NaN</td>\n",
       "    </tr>\n",
       "    <tr>\n",
       "      <th>2022-10-23 00:10:00</th>\n",
       "      <td>0.0</td>\n",
       "      <td>NaN</td>\n",
       "    </tr>\n",
       "    <tr>\n",
       "      <th>2022-10-23 00:15:00</th>\n",
       "      <td>0.0</td>\n",
       "      <td>NaN</td>\n",
       "    </tr>\n",
       "    <tr>\n",
       "      <th>2022-10-23 00:20:00</th>\n",
       "      <td>0.0</td>\n",
       "      <td>NaN</td>\n",
       "    </tr>\n",
       "    <tr>\n",
       "      <th>...</th>\n",
       "      <td>...</td>\n",
       "      <td>...</td>\n",
       "    </tr>\n",
       "    <tr>\n",
       "      <th>2022-10-25 23:35:00</th>\n",
       "      <td>0.0</td>\n",
       "      <td>NaN</td>\n",
       "    </tr>\n",
       "    <tr>\n",
       "      <th>2022-10-25 23:40:00</th>\n",
       "      <td>0.0</td>\n",
       "      <td>NaN</td>\n",
       "    </tr>\n",
       "    <tr>\n",
       "      <th>2022-10-25 23:45:00</th>\n",
       "      <td>0.0</td>\n",
       "      <td>NaN</td>\n",
       "    </tr>\n",
       "    <tr>\n",
       "      <th>2022-10-25 23:50:00</th>\n",
       "      <td>0.0</td>\n",
       "      <td>NaN</td>\n",
       "    </tr>\n",
       "    <tr>\n",
       "      <th>2022-10-25 23:55:00</th>\n",
       "      <td>0.0</td>\n",
       "      <td>NaN</td>\n",
       "    </tr>\n",
       "  </tbody>\n",
       "</table>\n",
       "<p>864 rows × 2 columns</p>\n",
       "</div>"
      ],
      "text/plain": [
       "                     TotW_3  I_GHI_3\n",
       "TimeStamp                           \n",
       "2022-10-23 00:00:00     0.0      NaN\n",
       "2022-10-23 00:05:00     0.0      NaN\n",
       "2022-10-23 00:10:00     0.0      NaN\n",
       "2022-10-23 00:15:00     0.0      NaN\n",
       "2022-10-23 00:20:00     0.0      NaN\n",
       "...                     ...      ...\n",
       "2022-10-25 23:35:00     0.0      NaN\n",
       "2022-10-25 23:40:00     0.0      NaN\n",
       "2022-10-25 23:45:00     0.0      NaN\n",
       "2022-10-25 23:50:00     0.0      NaN\n",
       "2022-10-25 23:55:00     0.0      NaN\n",
       "\n",
       "[864 rows x 2 columns]"
      ]
     },
     "execution_count": 8,
     "metadata": {},
     "output_type": "execute_result"
    }
   ],
   "source": [
    "data_ln"
   ]
  },
  {
   "cell_type": "code",
   "execution_count": 9,
   "id": "9a817220",
   "metadata": {
    "ExecuteTime": {
     "end_time": "2022-11-22T08:49:59.435478Z",
     "start_time": "2022-11-22T08:49:59.423865Z"
    }
   },
   "outputs": [],
   "source": [
    "data_ln = resample_df(data_ln, resample_time = 15, time_col='TimeStamp')"
   ]
  },
  {
   "cell_type": "code",
   "execution_count": 10,
   "id": "c2299bb2",
   "metadata": {
    "ExecuteTime": {
     "end_time": "2022-11-22T08:49:59.451664Z",
     "start_time": "2022-11-22T08:49:59.437440Z"
    }
   },
   "outputs": [
    {
     "data": {
      "text/html": [
       "<div>\n",
       "<style scoped>\n",
       "    .dataframe tbody tr th:only-of-type {\n",
       "        vertical-align: middle;\n",
       "    }\n",
       "\n",
       "    .dataframe tbody tr th {\n",
       "        vertical-align: top;\n",
       "    }\n",
       "\n",
       "    .dataframe thead th {\n",
       "        text-align: right;\n",
       "    }\n",
       "</style>\n",
       "<table border=\"1\" class=\"dataframe\">\n",
       "  <thead>\n",
       "    <tr style=\"text-align: right;\">\n",
       "      <th></th>\n",
       "      <th>TotW_3</th>\n",
       "      <th>I_GHI_3</th>\n",
       "    </tr>\n",
       "    <tr>\n",
       "      <th>TimeStamp</th>\n",
       "      <th></th>\n",
       "      <th></th>\n",
       "    </tr>\n",
       "  </thead>\n",
       "  <tbody>\n",
       "    <tr>\n",
       "      <th>2022-10-23 00:15:00</th>\n",
       "      <td>0.0</td>\n",
       "      <td>NaN</td>\n",
       "    </tr>\n",
       "    <tr>\n",
       "      <th>2022-10-23 00:30:00</th>\n",
       "      <td>0.0</td>\n",
       "      <td>NaN</td>\n",
       "    </tr>\n",
       "    <tr>\n",
       "      <th>2022-10-23 00:45:00</th>\n",
       "      <td>0.0</td>\n",
       "      <td>NaN</td>\n",
       "    </tr>\n",
       "    <tr>\n",
       "      <th>2022-10-23 01:00:00</th>\n",
       "      <td>0.0</td>\n",
       "      <td>NaN</td>\n",
       "    </tr>\n",
       "    <tr>\n",
       "      <th>2022-10-23 01:15:00</th>\n",
       "      <td>0.0</td>\n",
       "      <td>NaN</td>\n",
       "    </tr>\n",
       "    <tr>\n",
       "      <th>...</th>\n",
       "      <td>...</td>\n",
       "      <td>...</td>\n",
       "    </tr>\n",
       "    <tr>\n",
       "      <th>2022-10-25 23:00:00</th>\n",
       "      <td>0.0</td>\n",
       "      <td>NaN</td>\n",
       "    </tr>\n",
       "    <tr>\n",
       "      <th>2022-10-25 23:15:00</th>\n",
       "      <td>0.0</td>\n",
       "      <td>NaN</td>\n",
       "    </tr>\n",
       "    <tr>\n",
       "      <th>2022-10-25 23:30:00</th>\n",
       "      <td>0.0</td>\n",
       "      <td>NaN</td>\n",
       "    </tr>\n",
       "    <tr>\n",
       "      <th>2022-10-25 23:45:00</th>\n",
       "      <td>0.0</td>\n",
       "      <td>NaN</td>\n",
       "    </tr>\n",
       "    <tr>\n",
       "      <th>2022-10-26 00:00:00</th>\n",
       "      <td>0.0</td>\n",
       "      <td>NaN</td>\n",
       "    </tr>\n",
       "  </tbody>\n",
       "</table>\n",
       "<p>288 rows × 2 columns</p>\n",
       "</div>"
      ],
      "text/plain": [
       "                     TotW_3  I_GHI_3\n",
       "TimeStamp                           \n",
       "2022-10-23 00:15:00     0.0      NaN\n",
       "2022-10-23 00:30:00     0.0      NaN\n",
       "2022-10-23 00:45:00     0.0      NaN\n",
       "2022-10-23 01:00:00     0.0      NaN\n",
       "2022-10-23 01:15:00     0.0      NaN\n",
       "...                     ...      ...\n",
       "2022-10-25 23:00:00     0.0      NaN\n",
       "2022-10-25 23:15:00     0.0      NaN\n",
       "2022-10-25 23:30:00     0.0      NaN\n",
       "2022-10-25 23:45:00     0.0      NaN\n",
       "2022-10-26 00:00:00     0.0      NaN\n",
       "\n",
       "[288 rows x 2 columns]"
      ]
     },
     "execution_count": 10,
     "metadata": {},
     "output_type": "execute_result"
    }
   ],
   "source": [
    "data_ln"
   ]
  },
  {
   "cell_type": "code",
   "execution_count": 11,
   "id": "d6e03b35",
   "metadata": {
    "ExecuteTime": {
     "end_time": "2022-11-22T08:49:59.655568Z",
     "start_time": "2022-11-22T08:49:59.452675Z"
    }
   },
   "outputs": [
    {
     "data": {
      "text/plain": [
       "<AxesSubplot:xlabel='TimeStamp'>"
      ]
     },
     "execution_count": 11,
     "metadata": {},
     "output_type": "execute_result"
    },
    {
     "data": {
      "image/png": "[encoded data removed]",
      "text/plain": [
       "<Figure size 1296x432 with 1 Axes>"
      ]
     },
     "metadata": {},
     "output_type": "display_data"
    }
   ],
   "source": [
    "data_ln['I_GHI_3'].plot(figsize = (18,6), color = 'orange')"
   ]
  },
  {
   "cell_type": "code",
   "execution_count": 12,
   "id": "5f4e45ed",
   "metadata": {
    "ExecuteTime": {
     "end_time": "2022-11-22T08:49:59.795705Z",
     "start_time": "2022-11-22T08:49:59.657804Z"
    }
   },
   "outputs": [
    {
     "data": {
      "text/plain": [
       "<AxesSubplot:xlabel='TimeStamp'>"
      ]
     },
     "execution_count": 12,
     "metadata": {},
     "output_type": "execute_result"
    },
    {
     "data": {
      "image/png": "[encoded data removed]",
      "text/plain": [
       "<Figure size 1296x432 with 1 Axes>"
      ]
     },
     "metadata": {},
     "output_type": "display_data"
    }
   ],
   "source": [
    "data_ln['TotW_3'].plot(figsize = (18,6))"
   ]
  },
  {
   "cell_type": "markdown",
   "id": "5faf76fa",
   "metadata": {},
   "source": [
    "## Weather forecast\n"
   ]
  },
  {
   "cell_type": "code",
   "execution_count": 13,
   "id": "fa16dc2c",
   "metadata": {
    "ExecuteTime": {
     "end_time": "2022-11-22T08:49:59.811379Z",
     "start_time": "2022-11-22T08:49:59.796669Z"
    }
   },
   "outputs": [],
   "source": [
    "# weather = pd.read_csv('./weather_LN.csv')"
   ]
  },
  {
   "cell_type": "code",
   "execution_count": 14,
   "id": "ada12719",
   "metadata": {
    "ExecuteTime": {
     "end_time": "2022-11-22T08:49:59.827258Z",
     "start_time": "2022-11-22T08:49:59.812395Z"
    }
   },
   "outputs": [],
   "source": [
    "# weather"
   ]
  },
  {
   "cell_type": "code",
   "execution_count": 15,
   "id": "d5f97187",
   "metadata": {
    "ExecuteTime": {
     "end_time": "2022-11-22T08:49:59.843261Z",
     "start_time": "2022-11-22T08:49:59.828259Z"
    }
   },
   "outputs": [],
   "source": [
    "# weather = weather.set_index('period_end')"
   ]
  },
  {
   "cell_type": "code",
   "execution_count": 16,
   "id": "9137a7a4",
   "metadata": {
    "ExecuteTime": {
     "end_time": "2022-11-22T08:49:59.858573Z",
     "start_time": "2022-11-22T08:49:59.844243Z"
    }
   },
   "outputs": [],
   "source": [
    "# weather = weather.reset_index()"
   ]
  },
  {
   "cell_type": "code",
   "execution_count": 17,
   "id": "d9a82b40",
   "metadata": {
    "ExecuteTime": {
     "end_time": "2022-11-22T08:49:59.874537Z",
     "start_time": "2022-11-22T08:49:59.859999Z"
    }
   },
   "outputs": [],
   "source": [
    "# weather"
   ]
  },
  {
   "cell_type": "code",
   "execution_count": 18,
   "id": "15639d04",
   "metadata": {
    "ExecuteTime": {
     "end_time": "2022-11-22T08:49:59.890314Z",
     "start_time": "2022-11-22T08:49:59.876541Z"
    }
   },
   "outputs": [],
   "source": [
    "# weather['period_end'] = pd.to_datetime(weather['period_end']) "
   ]
  },
  {
   "cell_type": "code",
   "execution_count": 19,
   "id": "e4ec45b4",
   "metadata": {
    "ExecuteTime": {
     "end_time": "2022-11-22T08:49:59.905402Z",
     "start_time": "2022-11-22T08:49:59.891750Z"
    }
   },
   "outputs": [],
   "source": [
    "# weather"
   ]
  },
  {
   "cell_type": "code",
   "execution_count": 20,
   "id": "03a9ed7a",
   "metadata": {
    "ExecuteTime": {
     "end_time": "2022-11-22T08:49:59.921501Z",
     "start_time": "2022-11-22T08:49:59.909923Z"
    }
   },
   "outputs": [],
   "source": [
    "# data = weather.loc[weather['period_end'].dt.date>=date(year=2022,month=10,day=31)]\n",
    "# data = data.loc[data['period_end'].dt.date<=date(year=2022,month=10,day=31)]\n",
    "# data = data.set_index('period_end')"
   ]
  },
  {
   "cell_type": "code",
   "execution_count": 21,
   "id": "242b6109",
   "metadata": {
    "ExecuteTime": {
     "end_time": "2022-11-22T08:49:59.936690Z",
     "start_time": "2022-11-22T08:49:59.924197Z"
    }
   },
   "outputs": [],
   "source": [
    "# data= resample_df(data, resample_time = 15, time_col='period_end')"
   ]
  },
  {
   "cell_type": "code",
   "execution_count": 22,
   "id": "4d8f18f7",
   "metadata": {
    "ExecuteTime": {
     "end_time": "2022-11-22T08:49:59.952423Z",
     "start_time": "2022-11-22T08:49:59.941096Z"
    }
   },
   "outputs": [],
   "source": [
    "# data['ghi'].plot(figsize = (18,6), color = 'green')"
   ]
  },
  {
   "cell_type": "code",
   "execution_count": 23,
   "id": "7935ec98",
   "metadata": {
    "ExecuteTime": {
     "end_time": "2022-11-22T08:49:59.968321Z",
     "start_time": "2022-11-22T08:49:59.953117Z"
    }
   },
   "outputs": [],
   "source": [
    "# from dateutil import tz\n",
    "# import pytz\n",
    "# dt_str  = \"10/21/2021 8:18:19\"\n",
    "# format  = \"%m/%d/%Y %H:%M:%S\"\n",
    "# # Create datetime object in local timezone\n",
    "# dt_utc = datetime.strptime(dt_str, format)\n",
    "# dt_utc = dt_utc.replace(tzinfo=pytz.UTC)\n",
    "# print('Datetime in UTC Time zone: ', dt_utc)\n",
    "# # Get local timezone\n",
    "# local_zone = tz.tzlocal()\n",
    "# # Convert timezone of datetime from UTC to local\n",
    "# dt_local = dt_utc.astimezone(local_zone)"
   ]
  },
  {
   "cell_type": "markdown",
   "id": "1b70e0bc",
   "metadata": {
    "ExecuteTime": {
     "end_time": "2022-11-21T15:46:30.923697Z",
     "start_time": "2022-11-21T15:46:30.900992Z"
    }
   },
   "source": [
    "## MAPE "
   ]
  },
  {
   "cell_type": "code",
   "execution_count": 24,
   "id": "dba90fa5",
   "metadata": {
    "ExecuteTime": {
     "end_time": "2022-11-22T08:49:59.983691Z",
     "start_time": "2022-11-22T08:49:59.970102Z"
    }
   },
   "outputs": [],
   "source": [
    "# mape = pd.read_csv('./MAPE/LN3_2D.csv')"
   ]
  },
  {
   "cell_type": "code",
   "execution_count": 25,
   "id": "0f44b718",
   "metadata": {
    "ExecuteTime": {
     "end_time": "2022-11-22T08:50:00.015053Z",
     "start_time": "2022-11-22T08:49:59.985250Z"
    }
   },
   "outputs": [],
   "source": [
    "# mape['time'] = pd.to_datetime(mape['time']) "
   ]
  },
  {
   "cell_type": "code",
   "execution_count": 26,
   "id": "f1224e99",
   "metadata": {
    "ExecuteTime": {
     "end_time": "2022-11-22T08:50:00.031152Z",
     "start_time": "2022-11-22T08:50:00.018052Z"
    }
   },
   "outputs": [],
   "source": [
    "# data_1 = mape.loc[mape['time'].dt.date>=date(year=2022,month=10,day=23)]\n",
    "# data_1  = data_1 .loc[data_1 ['time'].dt.date<=date(year=2022,month=10,day=25)]\n",
    "# data_1  = data_1 .set_index('time')"
   ]
  },
  {
   "cell_type": "code",
   "execution_count": 27,
   "id": "9c6ee06a",
   "metadata": {
    "ExecuteTime": {
     "end_time": "2022-11-22T08:50:00.046419Z",
     "start_time": "2022-11-22T08:50:00.040255Z"
    }
   },
   "outputs": [],
   "source": [
    "# data_1 = data_1['mape_erav']"
   ]
  },
  {
   "cell_type": "code",
   "execution_count": 28,
   "id": "10e57f84",
   "metadata": {
    "ExecuteTime": {
     "end_time": "2022-11-22T08:50:00.062149Z",
     "start_time": "2022-11-22T08:50:00.048378Z"
    }
   },
   "outputs": [],
   "source": [
    "# data_2 = data_1.reset_index()"
   ]
  },
  {
   "cell_type": "code",
   "execution_count": 29,
   "id": "b254eb3b",
   "metadata": {
    "ExecuteTime": {
     "end_time": "2022-11-22T08:50:00.078222Z",
     "start_time": "2022-11-22T08:50:00.063139Z"
    }
   },
   "outputs": [
    {
     "data": {
      "text/plain": [
       "25.10415274"
      ]
     },
     "execution_count": 29,
     "metadata": {},
     "output_type": "execute_result"
    }
   ],
   "source": [
    "# data_2['mape_erav'].max()"
   ]
  },
  {
   "cell_type": "code",
   "execution_count": 30,
   "id": "e242dd56",
   "metadata": {
    "ExecuteTime": {
     "end_time": "2022-11-22T08:50:00.094274Z",
     "start_time": "2022-11-22T08:50:00.079727Z"
    },
    "scrolled": true
   },
   "outputs": [
    {
     "data": {
      "text/html": [
       "<div>\n",
       "<style scoped>\n",
       "    .dataframe tbody tr th:only-of-type {\n",
       "        vertical-align: middle;\n",
       "    }\n",
       "\n",
       "    .dataframe tbody tr th {\n",
       "        vertical-align: top;\n",
       "    }\n",
       "\n",
       "    .dataframe thead th {\n",
       "        text-align: right;\n",
       "    }\n",
       "</style>\n",
       "<table border=\"1\" class=\"dataframe\">\n",
       "  <thead>\n",
       "    <tr style=\"text-align: right;\">\n",
       "      <th></th>\n",
       "      <th>time</th>\n",
       "      <th>mape_erav</th>\n",
       "    </tr>\n",
       "  </thead>\n",
       "  <tbody>\n",
       "    <tr>\n",
       "      <th>0</th>\n",
       "      <td>2022-10-23 08:00:00</td>\n",
       "      <td>21.871554</td>\n",
       "    </tr>\n",
       "    <tr>\n",
       "      <th>1</th>\n",
       "      <td>2022-10-23 14:00:00</td>\n",
       "      <td>18.041889</td>\n",
       "    </tr>\n",
       "    <tr>\n",
       "      <th>4</th>\n",
       "      <td>2022-10-25 08:00:00</td>\n",
       "      <td>21.473327</td>\n",
       "    </tr>\n",
       "    <tr>\n",
       "      <th>5</th>\n",
       "      <td>2022-10-25 14:00:00</td>\n",
       "      <td>25.104153</td>\n",
       "    </tr>\n",
       "  </tbody>\n",
       "</table>\n",
       "</div>"
      ],
      "text/plain": [
       "                 time  mape_erav\n",
       "0 2022-10-23 08:00:00  21.871554\n",
       "1 2022-10-23 14:00:00  18.041889\n",
       "4 2022-10-25 08:00:00  21.473327\n",
       "5 2022-10-25 14:00:00  25.104153"
      ]
     },
     "execution_count": 30,
     "metadata": {},
     "output_type": "execute_result"
    }
   ],
   "source": [
    "# data_2[data_2['mape_erav'] > 15]"
   ]
  },
  {
   "cell_type": "code",
   "execution_count": 31,
   "id": "d8d43508",
   "metadata": {
    "ExecuteTime": {
     "end_time": "2022-11-22T08:50:00.311024Z",
     "start_time": "2022-11-22T08:50:00.095274Z"
    }
   },
   "outputs": [
    {
     "data": {
      "text/plain": [
       "<AxesSubplot:xlabel='time'>"
      ]
     },
     "execution_count": 31,
     "metadata": {},
     "output_type": "execute_result"
    },
    {
     "data": {
      "image/png": "[encoded data removed]",
      "text/plain": [
       "<Figure size 1296x432 with 1 Axes>"
      ]
     },
     "metadata": {},
     "output_type": "display_data"
    }
   ],
   "source": [
    "# data_1.plot(figsize = (18,6),marker='.')"
   ]
  },
  {
   "cell_type": "code",
   "execution_count": null,
   "id": "5220401e",
   "metadata": {},
   "outputs": [],
   "source": []
  }
 ],
 "metadata": {
  "kernelspec": {
   "display_name": "Python 3 (ipykernel)",
   "language": "python",
   "name": "python3"
  },
  "language_info": {
   "codemirror_mode": {
    "name": "ipython",
    "version": 3
   },
   "file_extension": ".py",
   "mimetype": "text/x-python",
   "name": "python",
   "nbconvert_exporter": "python",
   "pygments_lexer": "ipython3",
   "version": "3.9.2"
  },
  "toc": {
   "base_numbering": 1,
   "nav_menu": {},
   "number_sections": true,
   "sideBar": true,
   "skip_h1_title": false,
   "title_cell": "Table of Contents",
   "title_sidebar": "Contents",
   "toc_cell": false,
   "toc_position": {
    "height": "calc(100% - 180px)",
    "left": "10px",
    "top": "150px",
    "width": "416.875px"
   },
   "toc_section_display": true,
   "toc_window_display": false
  },
  "varInspector": {
   "cols": {
    "lenName": 16,
    "lenType": 16,
    "lenVar": 40
   },
   "kernels_config": {
    "python": {
     "delete_cmd_postfix": "",
     "delete_cmd_prefix": "del ",
     "library": "var_list.py",
     "varRefreshCmd": "print(var_dic_list())"
    },
    "r": {
     "delete_cmd_postfix": ") ",
     "delete_cmd_prefix": "rm(",
     "library": "var_list.r",
     "varRefreshCmd": "cat(var_dic_list()) "
    }
   },
   "types_to_exclude": [
    "module",
    "function",
    "builtin_function_or_method",
    "instance",
    "_Feature"
   ],
   "window_display": false
  }
 },
 "nbformat": 4,
 "nbformat_minor": 5
}
