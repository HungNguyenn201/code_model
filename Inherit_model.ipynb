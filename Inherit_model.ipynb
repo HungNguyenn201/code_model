{
 "cells": [
  {
   "cell_type": "code",
   "execution_count": 1,
   "id": "ca79fac9",
   "metadata": {
    "ExecuteTime": {
     "end_time": "2023-02-08T10:11:16.017068Z",
     "start_time": "2023-02-08T10:11:12.808651Z"
    }
   },
   "outputs": [],
   "source": [
    "import numpy as np\n",
    "import pandas as pd\n",
    "import os\n",
    "import re\n",
    "import math\n",
    "import random\n",
    "import pickle\n",
    "import tensorflow as tf\n",
    "import matplotlib.dates as mdates\n",
    "from datetime import time\n",
    "xformatter = mdates.DateFormatter('%H:%M')  # for time axis plots\n",
    "import datetime\n",
    "from dateutil.parser import parse\n",
    "from sklearn.metrics import mean_squared_error\n",
    "import seaborn as sns\n",
    "import matplotlib.pyplot as plt\n",
    "import plotly.graph_objects as go\n",
    "%matplotlib inline\n",
    "from matplotlib import style\n",
    "style.use('seaborn-whitegrid')\n",
    "\n",
    "from pandas.tseries.frequencies import to_offset\n",
    "from pickle import load,dump\n",
    "from sklearn.preprocessing import MinMaxScaler\n",
    "from sklearn.feature_selection import SelectKBest,f_regression\n",
    "from keras.models import Sequential, load_model\n",
    "from keras.layers import Dense\n",
    "from keras.layers import LSTM,GRU,Bidirectional\n",
    "from keras.models import load_model\n",
    "from keras.callbacks import EarlyStopping\n",
    "from keras.backend import clear_session\n",
    "import warnings\n",
    "warnings.filterwarnings('ignore')"
   ]
  },
  {
   "cell_type": "code",
   "execution_count": 2,
   "id": "f5e2dfe8",
   "metadata": {
    "ExecuteTime": {
     "end_time": "2023-02-08T10:11:16.032157Z",
     "start_time": "2023-02-08T10:11:16.018601Z"
    }
   },
   "outputs": [],
   "source": [
    "FORMAT_TIME='%Y-%m-%d %H:%M:%S'"
   ]
  },
  {
   "cell_type": "code",
   "execution_count": 3,
   "id": "d20c7a41",
   "metadata": {
    "ExecuteTime": {
     "end_time": "2023-02-08T10:11:16.047545Z",
     "start_time": "2023-02-08T10:11:16.033379Z"
    }
   },
   "outputs": [],
   "source": [
    "# Nhap du lieu train data\n",
    "def import_train_data(path_file_train):\n",
    "    df = pd.read_csv(path_file_train)\n",
    "    df['TimeStamp'] = pd.to_datetime(df['TimeStamp']\n",
    "                                      )\n",
    "    df = df.set_index('TimeStamp')\n",
    "    return df"
   ]
  },
  {
   "cell_type": "code",
   "execution_count": 4,
   "id": "1f13bfe1",
   "metadata": {
    "ExecuteTime": {
     "end_time": "2023-02-08T10:11:16.063260Z",
     "start_time": "2023-02-08T10:11:16.049619Z"
    }
   },
   "outputs": [],
   "source": [
    "def resample_df(df, resample_time, time_col='TimeStamp'):\n",
    "    \"\"\"\n",
    "    resample_time: `minute`\n",
    "    \"\"\"\n",
    "    resample_df = df.copy()\n",
    "    if resample_time >= 30:\n",
    "        resample_df = resample_df.set_index(\n",
    "            resample_df[time_col] - to_offset(str(resample_time//2)+\"min\"))\n",
    "    resample_df = resample_df.resample(str(resample_time)+'min', label='right').mean()\n",
    "    return resample_df"
   ]
  },
  {
   "cell_type": "code",
   "execution_count": 5,
   "id": "45ee8662",
   "metadata": {
    "ExecuteTime": {
     "end_time": "2023-02-08T10:11:16.623045Z",
     "start_time": "2023-02-08T10:11:16.065264Z"
    }
   },
   "outputs": [],
   "source": [
    "all_plant = import_train_data('./LN2_training_9.csv')\n",
    "# all_plant = all_plant.reset_index()\n",
    "all_plant = resample_df(all_plant, resample_time = 15, time_col='TimeStamp')"
   ]
  },
  {
   "cell_type": "code",
   "execution_count": 6,
   "id": "7f067fd3",
   "metadata": {
    "ExecuteTime": {
     "end_time": "2023-02-08T10:11:16.639018Z",
     "start_time": "2023-02-08T10:11:16.623996Z"
    }
   },
   "outputs": [],
   "source": [
    "# Split train, val data theo ti le 8/2\n",
    "def train_valid_split(df, split_ratio=[0.8, 0.2]):\n",
    "    train_ratio, valid_ratio = split_ratio\n",
    "    assert train_ratio + valid_ratio  == 1.0\n",
    "    n_df = len(df)\n",
    "    # Train / Validation  Split\n",
    "    train_split = int(n_df * train_ratio)\n",
    "    valid_split = int(n_df * (train_ratio + valid_ratio))\n",
    "\n",
    "    train = df[:train_split]\n",
    "    val = df[train_split:valid_split]\n",
    "\n",
    "    print(f'Train set: {len(train)} ')\n",
    "    print(f'Validation set: {len(val)} ')\n",
    "\n",
    "    return train, val "
   ]
  },
  {
   "cell_type": "code",
   "execution_count": null,
   "id": "11e72d71",
   "metadata": {},
   "outputs": [],
   "source": []
  },
  {
   "cell_type": "code",
   "execution_count": 7,
   "id": "2f1c4b03",
   "metadata": {
    "ExecuteTime": {
     "end_time": "2023-02-08T10:11:16.654916Z",
     "start_time": "2023-02-08T10:11:16.639933Z"
    }
   },
   "outputs": [],
   "source": [
    "def load_scale(df, path_scale):\n",
    "    scale_df = pd.DataFrame(index=df.index)\n",
    "    for col in df.columns:\n",
    "        scaler = pickle.load(open(path_scale + col+'.pkl','rb'))\n",
    "        scale_df[col] = scaler.transform(df[col].values.reshape(-1,1))[:,0]\n",
    "    return scale_df"
   ]
  },
  {
   "cell_type": "code",
   "execution_count": null,
   "id": "c61cf6ef",
   "metadata": {},
   "outputs": [],
   "source": []
  },
  {
   "cell_type": "code",
   "execution_count": 8,
   "id": "ee6579c7",
   "metadata": {
    "ExecuteTime": {
     "end_time": "2023-02-08T10:11:16.670885Z",
     "start_time": "2023-02-08T10:11:16.655929Z"
    }
   },
   "outputs": [],
   "source": [
    "def num_step_1hour(df):\n",
    "    \"\"\"\n",
    "    Get number step of 1 hours\n",
    "    \"\"\"\n",
    "    step_hours = None\n",
    "    if type(df.index) == pd.core.indexes.datetimes.DatetimeIndex:\n",
    "        time_1step = int((df.index[1] - df.index[0]) /\n",
    "                         np.timedelta64(1, 'm'))  # minute\n",
    "        step_hours = 60 // time_1step\n",
    "    return step_hours"
   ]
  },
  {
   "cell_type": "code",
   "execution_count": 9,
   "id": "4074a43d",
   "metadata": {
    "ExecuteTime": {
     "end_time": "2023-02-08T10:11:16.685972Z",
     "start_time": "2023-02-08T10:11:16.672746Z"
    }
   },
   "outputs": [],
   "source": [
    "def make_data_supervised(dt, num_pre_around=5, num_day_pre=3):\n",
    "    step_lag_1_day = num_step_1hour(dt)*24\n",
    "    dt_lag = pd.DataFrame()\n",
    "    for col in dt.columns:\n",
    "        for day_pre in range(num_pre_around+1):\n",
    "            if day_pre == 0:\n",
    "                dt_lag[col+'(t)'] = dt[col]\n",
    "            else:\n",
    "                dt_lag[col+'(t-'+str(day_pre)+')'] = dt[col].shift(day_pre)\n",
    "        for day_pre in range(1, num_day_pre):\n",
    "            step_lag = step_lag_1_day*day_pre\n",
    "            for lag in range(num_pre_around+1):\n",
    "                dt_lag[col+'(t-'+str(step_lag+lag) +\n",
    "                       ')'] = dt[col].shift(step_lag+lag)\n",
    "                dt_lag[col+'(t-'+str(step_lag-lag) +\n",
    "                       ')'] = dt[col].shift(step_lag-lag)\n",
    "    dt_lag = dt_lag.dropna()\n",
    "    dt_lag['hour'] = dt_lag.index.hour\n",
    "    dt_lag['day'] = dt_lag.index.day\n",
    "    dt_lag['day_of_week'] = dt_lag.index.dayofweek\n",
    "    dt_lag['month'] = dt_lag.index.month\n",
    "    dt_lag['day_of_year'] = dt_lag.index.dayofyear\n",
    "    return dt_lag"
   ]
  },
  {
   "cell_type": "code",
   "execution_count": 10,
   "id": "46d9eeb8",
   "metadata": {
    "ExecuteTime": {
     "end_time": "2023-02-08T10:11:16.701297Z",
     "start_time": "2023-02-08T10:11:16.687515Z"
    }
   },
   "outputs": [],
   "source": [
    "def get_or_create_path(path):\n",
    "    if os.path.isdir(path) is False:\n",
    "        os.mkdir(path)"
   ]
  },
  {
   "cell_type": "code",
   "execution_count": 11,
   "id": "e051463b",
   "metadata": {
    "ExecuteTime": {
     "end_time": "2023-02-08T10:11:16.717028Z",
     "start_time": "2023-02-08T10:11:16.701750Z"
    }
   },
   "outputs": [],
   "source": [
    "def scale_func(train, val):\n",
    "    train_scale_df = pd.DataFrame(index=train.index)\n",
    "    val_scale_df = pd.DataFrame(index=val.index)\n",
    "    \n",
    "    for col in train.columns:\n",
    "        scaler = MinMaxScaler()\n",
    "        train_scale_df[col] = scaler.fit_transform(train[col].values.reshape(-1,1))[:,0]\n",
    "        val_scale_df[col] = scaler.transform(val[col].values.reshape(-1,1))[:,0]\n",
    "    return train_scale_df,val_scale_df"
   ]
  },
  {
   "cell_type": "code",
   "execution_count": 12,
   "id": "3390dcef",
   "metadata": {
    "ExecuteTime": {
     "end_time": "2023-02-08T10:11:16.732934Z",
     "start_time": "2023-02-08T10:11:16.718738Z"
    }
   },
   "outputs": [
    {
     "name": "stdout",
     "output_type": "stream",
     "text": [
      "Train set: 2304 \n",
      "Validation set: 576 \n"
     ]
    }
   ],
   "source": [
    "train_solar, val_solar = train_valid_split(all_plant,split_ratio=[0.8, 0.2])"
   ]
  },
  {
   "cell_type": "code",
   "execution_count": 13,
   "id": "e69044bd",
   "metadata": {
    "ExecuteTime": {
     "end_time": "2023-02-08T10:11:16.749306Z",
     "start_time": "2023-02-08T10:11:16.733886Z"
    }
   },
   "outputs": [],
   "source": [
    "train_scale, val_scale = scale_func(train_solar, val_solar)"
   ]
  },
  {
   "cell_type": "code",
   "execution_count": 14,
   "id": "54dc7504",
   "metadata": {
    "ExecuteTime": {
     "end_time": "2023-02-08T10:11:16.842215Z",
     "start_time": "2023-02-08T10:11:16.750304Z"
    }
   },
   "outputs": [],
   "source": [
    "train_scaler_lag = make_data_supervised(train_scale)\n",
    "val_scaler_lag = make_data_supervised(val_scale)"
   ]
  },
  {
   "cell_type": "code",
   "execution_count": 15,
   "id": "c2715471",
   "metadata": {
    "ExecuteTime": {
     "end_time": "2023-02-08T10:11:16.857988Z",
     "start_time": "2023-02-08T10:11:16.845261Z"
    }
   },
   "outputs": [],
   "source": [
    "col_analysis = list(train_scaler_lag)\n",
    "train_solar = train_scaler_lag[col_analysis].copy()\n",
    "val_solar = val_scaler_lag[col_analysis].copy()"
   ]
  },
  {
   "cell_type": "code",
   "execution_count": 16,
   "id": "a83b1e69",
   "metadata": {
    "ExecuteTime": {
     "end_time": "2023-02-08T10:11:16.904787Z",
     "start_time": "2023-02-08T10:11:16.861543Z"
    }
   },
   "outputs": [
    {
     "data": {
      "text/html": [
       "<div>\n",
       "<style scoped>\n",
       "    .dataframe tbody tr th:only-of-type {\n",
       "        vertical-align: middle;\n",
       "    }\n",
       "\n",
       "    .dataframe tbody tr th {\n",
       "        vertical-align: top;\n",
       "    }\n",
       "\n",
       "    .dataframe thead th {\n",
       "        text-align: right;\n",
       "    }\n",
       "</style>\n",
       "<table border=\"1\" class=\"dataframe\">\n",
       "  <thead>\n",
       "    <tr style=\"text-align: right;\">\n",
       "      <th></th>\n",
       "      <th>TotW(t)</th>\n",
       "      <th>TotW(t-1)</th>\n",
       "      <th>TotW(t-2)</th>\n",
       "      <th>TotW(t-3)</th>\n",
       "      <th>TotW(t-4)</th>\n",
       "      <th>TotW(t-5)</th>\n",
       "      <th>TotW(t-96)</th>\n",
       "      <th>TotW(t-97)</th>\n",
       "      <th>TotW(t-95)</th>\n",
       "      <th>TotW(t-98)</th>\n",
       "      <th>...</th>\n",
       "      <th>T(t-189)</th>\n",
       "      <th>T(t-196)</th>\n",
       "      <th>T(t-188)</th>\n",
       "      <th>T(t-197)</th>\n",
       "      <th>T(t-187)</th>\n",
       "      <th>hour</th>\n",
       "      <th>day</th>\n",
       "      <th>day_of_week</th>\n",
       "      <th>month</th>\n",
       "      <th>day_of_year</th>\n",
       "    </tr>\n",
       "    <tr>\n",
       "      <th>TimeStamp</th>\n",
       "      <th></th>\n",
       "      <th></th>\n",
       "      <th></th>\n",
       "      <th></th>\n",
       "      <th></th>\n",
       "      <th></th>\n",
       "      <th></th>\n",
       "      <th></th>\n",
       "      <th></th>\n",
       "      <th></th>\n",
       "      <th></th>\n",
       "      <th></th>\n",
       "      <th></th>\n",
       "      <th></th>\n",
       "      <th></th>\n",
       "      <th></th>\n",
       "      <th></th>\n",
       "      <th></th>\n",
       "      <th></th>\n",
       "      <th></th>\n",
       "      <th></th>\n",
       "    </tr>\n",
       "  </thead>\n",
       "  <tbody>\n",
       "    <tr>\n",
       "      <th>2022-09-03 01:30:00</th>\n",
       "      <td>0.0</td>\n",
       "      <td>0.0</td>\n",
       "      <td>0.0</td>\n",
       "      <td>0.0</td>\n",
       "      <td>0.0</td>\n",
       "      <td>0.0</td>\n",
       "      <td>0.0</td>\n",
       "      <td>0.0</td>\n",
       "      <td>0.0</td>\n",
       "      <td>0.0</td>\n",
       "      <td>...</td>\n",
       "      <td>0.172417</td>\n",
       "      <td>0.193025</td>\n",
       "      <td>0.169472</td>\n",
       "      <td>0.196215</td>\n",
       "      <td>0.166528</td>\n",
       "      <td>1</td>\n",
       "      <td>3</td>\n",
       "      <td>5</td>\n",
       "      <td>9</td>\n",
       "      <td>246</td>\n",
       "    </tr>\n",
       "    <tr>\n",
       "      <th>2022-09-03 01:45:00</th>\n",
       "      <td>0.0</td>\n",
       "      <td>0.0</td>\n",
       "      <td>0.0</td>\n",
       "      <td>0.0</td>\n",
       "      <td>0.0</td>\n",
       "      <td>0.0</td>\n",
       "      <td>0.0</td>\n",
       "      <td>0.0</td>\n",
       "      <td>0.0</td>\n",
       "      <td>0.0</td>\n",
       "      <td>...</td>\n",
       "      <td>0.169472</td>\n",
       "      <td>0.190081</td>\n",
       "      <td>0.166528</td>\n",
       "      <td>0.193025</td>\n",
       "      <td>0.163584</td>\n",
       "      <td>1</td>\n",
       "      <td>3</td>\n",
       "      <td>5</td>\n",
       "      <td>9</td>\n",
       "      <td>246</td>\n",
       "    </tr>\n",
       "    <tr>\n",
       "      <th>2022-09-03 02:00:00</th>\n",
       "      <td>0.0</td>\n",
       "      <td>0.0</td>\n",
       "      <td>0.0</td>\n",
       "      <td>0.0</td>\n",
       "      <td>0.0</td>\n",
       "      <td>0.0</td>\n",
       "      <td>0.0</td>\n",
       "      <td>0.0</td>\n",
       "      <td>0.0</td>\n",
       "      <td>0.0</td>\n",
       "      <td>...</td>\n",
       "      <td>0.166528</td>\n",
       "      <td>0.187137</td>\n",
       "      <td>0.163584</td>\n",
       "      <td>0.190081</td>\n",
       "      <td>0.160640</td>\n",
       "      <td>2</td>\n",
       "      <td>3</td>\n",
       "      <td>5</td>\n",
       "      <td>9</td>\n",
       "      <td>246</td>\n",
       "    </tr>\n",
       "    <tr>\n",
       "      <th>2022-09-03 02:15:00</th>\n",
       "      <td>0.0</td>\n",
       "      <td>0.0</td>\n",
       "      <td>0.0</td>\n",
       "      <td>0.0</td>\n",
       "      <td>0.0</td>\n",
       "      <td>0.0</td>\n",
       "      <td>0.0</td>\n",
       "      <td>0.0</td>\n",
       "      <td>0.0</td>\n",
       "      <td>0.0</td>\n",
       "      <td>...</td>\n",
       "      <td>0.163584</td>\n",
       "      <td>0.184193</td>\n",
       "      <td>0.160640</td>\n",
       "      <td>0.187137</td>\n",
       "      <td>0.159990</td>\n",
       "      <td>2</td>\n",
       "      <td>3</td>\n",
       "      <td>5</td>\n",
       "      <td>9</td>\n",
       "      <td>246</td>\n",
       "    </tr>\n",
       "    <tr>\n",
       "      <th>2022-09-03 02:30:00</th>\n",
       "      <td>0.0</td>\n",
       "      <td>0.0</td>\n",
       "      <td>0.0</td>\n",
       "      <td>0.0</td>\n",
       "      <td>0.0</td>\n",
       "      <td>0.0</td>\n",
       "      <td>0.0</td>\n",
       "      <td>0.0</td>\n",
       "      <td>0.0</td>\n",
       "      <td>0.0</td>\n",
       "      <td>...</td>\n",
       "      <td>0.160640</td>\n",
       "      <td>0.181249</td>\n",
       "      <td>0.159990</td>\n",
       "      <td>0.184193</td>\n",
       "      <td>0.160779</td>\n",
       "      <td>2</td>\n",
       "      <td>3</td>\n",
       "      <td>5</td>\n",
       "      <td>9</td>\n",
       "      <td>246</td>\n",
       "    </tr>\n",
       "    <tr>\n",
       "      <th>...</th>\n",
       "      <td>...</td>\n",
       "      <td>...</td>\n",
       "      <td>...</td>\n",
       "      <td>...</td>\n",
       "      <td>...</td>\n",
       "      <td>...</td>\n",
       "      <td>...</td>\n",
       "      <td>...</td>\n",
       "      <td>...</td>\n",
       "      <td>...</td>\n",
       "      <td>...</td>\n",
       "      <td>...</td>\n",
       "      <td>...</td>\n",
       "      <td>...</td>\n",
       "      <td>...</td>\n",
       "      <td>...</td>\n",
       "      <td>...</td>\n",
       "      <td>...</td>\n",
       "      <td>...</td>\n",
       "      <td>...</td>\n",
       "      <td>...</td>\n",
       "    </tr>\n",
       "    <tr>\n",
       "      <th>2022-09-24 23:00:00</th>\n",
       "      <td>0.0</td>\n",
       "      <td>0.0</td>\n",
       "      <td>0.0</td>\n",
       "      <td>0.0</td>\n",
       "      <td>0.0</td>\n",
       "      <td>0.0</td>\n",
       "      <td>0.0</td>\n",
       "      <td>0.0</td>\n",
       "      <td>0.0</td>\n",
       "      <td>0.0</td>\n",
       "      <td>...</td>\n",
       "      <td>0.123879</td>\n",
       "      <td>0.103596</td>\n",
       "      <td>0.126776</td>\n",
       "      <td>0.100698</td>\n",
       "      <td>0.129674</td>\n",
       "      <td>23</td>\n",
       "      <td>24</td>\n",
       "      <td>5</td>\n",
       "      <td>9</td>\n",
       "      <td>267</td>\n",
       "    </tr>\n",
       "    <tr>\n",
       "      <th>2022-09-24 23:15:00</th>\n",
       "      <td>0.0</td>\n",
       "      <td>0.0</td>\n",
       "      <td>0.0</td>\n",
       "      <td>0.0</td>\n",
       "      <td>0.0</td>\n",
       "      <td>0.0</td>\n",
       "      <td>0.0</td>\n",
       "      <td>0.0</td>\n",
       "      <td>0.0</td>\n",
       "      <td>0.0</td>\n",
       "      <td>...</td>\n",
       "      <td>0.126776</td>\n",
       "      <td>0.106493</td>\n",
       "      <td>0.129674</td>\n",
       "      <td>0.103596</td>\n",
       "      <td>0.132571</td>\n",
       "      <td>23</td>\n",
       "      <td>24</td>\n",
       "      <td>5</td>\n",
       "      <td>9</td>\n",
       "      <td>267</td>\n",
       "    </tr>\n",
       "    <tr>\n",
       "      <th>2022-09-24 23:30:00</th>\n",
       "      <td>0.0</td>\n",
       "      <td>0.0</td>\n",
       "      <td>0.0</td>\n",
       "      <td>0.0</td>\n",
       "      <td>0.0</td>\n",
       "      <td>0.0</td>\n",
       "      <td>0.0</td>\n",
       "      <td>0.0</td>\n",
       "      <td>0.0</td>\n",
       "      <td>0.0</td>\n",
       "      <td>...</td>\n",
       "      <td>0.129674</td>\n",
       "      <td>0.109391</td>\n",
       "      <td>0.132571</td>\n",
       "      <td>0.106493</td>\n",
       "      <td>0.135469</td>\n",
       "      <td>23</td>\n",
       "      <td>24</td>\n",
       "      <td>5</td>\n",
       "      <td>9</td>\n",
       "      <td>267</td>\n",
       "    </tr>\n",
       "    <tr>\n",
       "      <th>2022-09-24 23:45:00</th>\n",
       "      <td>0.0</td>\n",
       "      <td>0.0</td>\n",
       "      <td>0.0</td>\n",
       "      <td>0.0</td>\n",
       "      <td>0.0</td>\n",
       "      <td>0.0</td>\n",
       "      <td>0.0</td>\n",
       "      <td>0.0</td>\n",
       "      <td>0.0</td>\n",
       "      <td>0.0</td>\n",
       "      <td>...</td>\n",
       "      <td>0.132571</td>\n",
       "      <td>0.112288</td>\n",
       "      <td>0.135469</td>\n",
       "      <td>0.109391</td>\n",
       "      <td>0.138367</td>\n",
       "      <td>23</td>\n",
       "      <td>24</td>\n",
       "      <td>5</td>\n",
       "      <td>9</td>\n",
       "      <td>267</td>\n",
       "    </tr>\n",
       "    <tr>\n",
       "      <th>2022-09-25 00:00:00</th>\n",
       "      <td>0.0</td>\n",
       "      <td>0.0</td>\n",
       "      <td>0.0</td>\n",
       "      <td>0.0</td>\n",
       "      <td>0.0</td>\n",
       "      <td>0.0</td>\n",
       "      <td>0.0</td>\n",
       "      <td>0.0</td>\n",
       "      <td>0.0</td>\n",
       "      <td>0.0</td>\n",
       "      <td>...</td>\n",
       "      <td>0.135469</td>\n",
       "      <td>0.115186</td>\n",
       "      <td>0.138367</td>\n",
       "      <td>0.112288</td>\n",
       "      <td>0.141264</td>\n",
       "      <td>0</td>\n",
       "      <td>25</td>\n",
       "      <td>6</td>\n",
       "      <td>9</td>\n",
       "      <td>268</td>\n",
       "    </tr>\n",
       "  </tbody>\n",
       "</table>\n",
       "<p>2107 rows × 89 columns</p>\n",
       "</div>"
      ],
      "text/plain": [
       "                     TotW(t)  TotW(t-1)  TotW(t-2)  TotW(t-3)  TotW(t-4)  \\\n",
       "TimeStamp                                                                  \n",
       "2022-09-03 01:30:00      0.0        0.0        0.0        0.0        0.0   \n",
       "2022-09-03 01:45:00      0.0        0.0        0.0        0.0        0.0   \n",
       "2022-09-03 02:00:00      0.0        0.0        0.0        0.0        0.0   \n",
       "2022-09-03 02:15:00      0.0        0.0        0.0        0.0        0.0   \n",
       "2022-09-03 02:30:00      0.0        0.0        0.0        0.0        0.0   \n",
       "...                      ...        ...        ...        ...        ...   \n",
       "2022-09-24 23:00:00      0.0        0.0        0.0        0.0        0.0   \n",
       "2022-09-24 23:15:00      0.0        0.0        0.0        0.0        0.0   \n",
       "2022-09-24 23:30:00      0.0        0.0        0.0        0.0        0.0   \n",
       "2022-09-24 23:45:00      0.0        0.0        0.0        0.0        0.0   \n",
       "2022-09-25 00:00:00      0.0        0.0        0.0        0.0        0.0   \n",
       "\n",
       "                     TotW(t-5)  TotW(t-96)  TotW(t-97)  TotW(t-95)  \\\n",
       "TimeStamp                                                            \n",
       "2022-09-03 01:30:00        0.0         0.0         0.0         0.0   \n",
       "2022-09-03 01:45:00        0.0         0.0         0.0         0.0   \n",
       "2022-09-03 02:00:00        0.0         0.0         0.0         0.0   \n",
       "2022-09-03 02:15:00        0.0         0.0         0.0         0.0   \n",
       "2022-09-03 02:30:00        0.0         0.0         0.0         0.0   \n",
       "...                        ...         ...         ...         ...   \n",
       "2022-09-24 23:00:00        0.0         0.0         0.0         0.0   \n",
       "2022-09-24 23:15:00        0.0         0.0         0.0         0.0   \n",
       "2022-09-24 23:30:00        0.0         0.0         0.0         0.0   \n",
       "2022-09-24 23:45:00        0.0         0.0         0.0         0.0   \n",
       "2022-09-25 00:00:00        0.0         0.0         0.0         0.0   \n",
       "\n",
       "                     TotW(t-98)  ...  T(t-189)  T(t-196)  T(t-188)  T(t-197)  \\\n",
       "TimeStamp                        ...                                           \n",
       "2022-09-03 01:30:00         0.0  ...  0.172417  0.193025  0.169472  0.196215   \n",
       "2022-09-03 01:45:00         0.0  ...  0.169472  0.190081  0.166528  0.193025   \n",
       "2022-09-03 02:00:00         0.0  ...  0.166528  0.187137  0.163584  0.190081   \n",
       "2022-09-03 02:15:00         0.0  ...  0.163584  0.184193  0.160640  0.187137   \n",
       "2022-09-03 02:30:00         0.0  ...  0.160640  0.181249  0.159990  0.184193   \n",
       "...                         ...  ...       ...       ...       ...       ...   \n",
       "2022-09-24 23:00:00         0.0  ...  0.123879  0.103596  0.126776  0.100698   \n",
       "2022-09-24 23:15:00         0.0  ...  0.126776  0.106493  0.129674  0.103596   \n",
       "2022-09-24 23:30:00         0.0  ...  0.129674  0.109391  0.132571  0.106493   \n",
       "2022-09-24 23:45:00         0.0  ...  0.132571  0.112288  0.135469  0.109391   \n",
       "2022-09-25 00:00:00         0.0  ...  0.135469  0.115186  0.138367  0.112288   \n",
       "\n",
       "                     T(t-187)  hour  day  day_of_week  month  day_of_year  \n",
       "TimeStamp                                                                  \n",
       "2022-09-03 01:30:00  0.166528     1    3            5      9          246  \n",
       "2022-09-03 01:45:00  0.163584     1    3            5      9          246  \n",
       "2022-09-03 02:00:00  0.160640     2    3            5      9          246  \n",
       "2022-09-03 02:15:00  0.159990     2    3            5      9          246  \n",
       "2022-09-03 02:30:00  0.160779     2    3            5      9          246  \n",
       "...                       ...   ...  ...          ...    ...          ...  \n",
       "2022-09-24 23:00:00  0.129674    23   24            5      9          267  \n",
       "2022-09-24 23:15:00  0.132571    23   24            5      9          267  \n",
       "2022-09-24 23:30:00  0.135469    23   24            5      9          267  \n",
       "2022-09-24 23:45:00  0.138367    23   24            5      9          267  \n",
       "2022-09-25 00:00:00  0.141264     0   25            6      9          268  \n",
       "\n",
       "[2107 rows x 89 columns]"
      ]
     },
     "execution_count": 16,
     "metadata": {},
     "output_type": "execute_result"
    }
   ],
   "source": [
    "train_solar"
   ]
  },
  {
   "cell_type": "code",
   "execution_count": 17,
   "id": "72ab27a6",
   "metadata": {
    "ExecuteTime": {
     "end_time": "2023-02-08T10:11:16.919649Z",
     "start_time": "2023-02-08T10:11:16.907801Z"
    }
   },
   "outputs": [
    {
     "data": {
      "text/plain": [
       "(2107, 89)"
      ]
     },
     "execution_count": 17,
     "metadata": {},
     "output_type": "execute_result"
    }
   ],
   "source": [
    "train_solar.values[:, 0:].shape"
   ]
  },
  {
   "cell_type": "code",
   "execution_count": 18,
   "id": "f828474f",
   "metadata": {
    "ExecuteTime": {
     "end_time": "2023-02-08T10:11:16.934790Z",
     "start_time": "2023-02-08T10:11:16.920649Z"
    }
   },
   "outputs": [
    {
     "data": {
      "text/plain": [
       "array([[0.],\n",
       "       [0.],\n",
       "       [0.],\n",
       "       ...,\n",
       "       [0.],\n",
       "       [0.],\n",
       "       [0.]])"
      ]
     },
     "execution_count": 18,
     "metadata": {},
     "output_type": "execute_result"
    }
   ],
   "source": [
    "train_solar.values[:, :1]"
   ]
  },
  {
   "cell_type": "code",
   "execution_count": 19,
   "id": "e6188c58",
   "metadata": {
    "ExecuteTime": {
     "end_time": "2023-02-08T10:11:16.950050Z",
     "start_time": "2023-02-08T10:11:16.938740Z"
    }
   },
   "outputs": [],
   "source": [
    "train_X, train_y= train_solar.values[:, 1:],train_solar.values[:, :1]\n",
    "train_X = train_X.reshape(train_X.shape[0], 1, train_X.shape[1])\n",
    "val_X, val_y= val_solar.values[:, 1:],val_solar.values[:, :1]\n",
    "val_X = val_X.reshape(val_X.shape[0], 1, val_X.shape[1])"
   ]
  },
  {
   "cell_type": "code",
   "execution_count": 20,
   "id": "02353957",
   "metadata": {
    "ExecuteTime": {
     "end_time": "2023-02-08T10:11:16.965941Z",
     "start_time": "2023-02-08T10:11:16.952551Z"
    }
   },
   "outputs": [
    {
     "data": {
      "text/plain": [
       "(2107, 1, 88)"
      ]
     },
     "execution_count": 20,
     "metadata": {},
     "output_type": "execute_result"
    }
   ],
   "source": [
    "train_X.shape"
   ]
  },
  {
   "cell_type": "code",
   "execution_count": 21,
   "id": "59535bf5",
   "metadata": {
    "ExecuteTime": {
     "end_time": "2023-02-08T10:11:17.151864Z",
     "start_time": "2023-02-08T10:11:16.968004Z"
    }
   },
   "outputs": [],
   "source": [
    "model = load_model('./LN2/part1/time1/4H.h5')"
   ]
  },
  {
   "cell_type": "code",
   "execution_count": 22,
   "id": "a70caf22",
   "metadata": {
    "ExecuteTime": {
     "end_time": "2023-02-08T10:11:17.167059Z",
     "start_time": "2023-02-08T10:11:17.152794Z"
    }
   },
   "outputs": [
    {
     "data": {
      "text/plain": [
       "[<keras.layers.wrappers.Bidirectional at 0x23c0dba6d60>,\n",
       " <keras.layers.core.dense.Dense at 0x23c0de53be0>]"
      ]
     },
     "execution_count": 22,
     "metadata": {},
     "output_type": "execute_result"
    }
   ],
   "source": [
    "model.layers"
   ]
  },
  {
   "cell_type": "code",
   "execution_count": 23,
   "id": "ab5e5ca9",
   "metadata": {
    "ExecuteTime": {
     "end_time": "2023-02-08T10:11:17.182714Z",
     "start_time": "2023-02-08T10:11:17.168657Z"
    }
   },
   "outputs": [],
   "source": [
    "# Freeze the layers except the last one\n",
    "for layer in model.layers[:-1]:\n",
    "    layer.trainable = False"
   ]
  },
  {
   "cell_type": "code",
   "execution_count": 24,
   "id": "ded32fa3",
   "metadata": {
    "ExecuteTime": {
     "end_time": "2023-02-08T10:11:17.198871Z",
     "start_time": "2023-02-08T10:11:17.184640Z"
    }
   },
   "outputs": [],
   "source": [
    "model.compile(loss='mae', optimizer=tf.keras.optimizers.Adam(lr=0.001))"
   ]
  },
  {
   "cell_type": "code",
   "execution_count": 25,
   "id": "88c9f385",
   "metadata": {
    "ExecuteTime": {
     "end_time": "2023-02-08T10:11:17.913138Z",
     "start_time": "2023-02-08T10:11:17.199830Z"
    }
   },
   "outputs": [
    {
     "ename": "ValueError",
     "evalue": "in user code:\n\n    File \"c:\\users\\ad\\appdata\\local\\programs\\python\\python39\\lib\\site-packages\\keras\\engine\\training.py\", line 878, in train_function  *\n        return step_function(self, iterator)\n    File \"c:\\users\\ad\\appdata\\local\\programs\\python\\python39\\lib\\site-packages\\keras\\engine\\training.py\", line 867, in step_function  **\n        outputs = model.distribute_strategy.run(run_step, args=(data,))\n    File \"c:\\users\\ad\\appdata\\local\\programs\\python\\python39\\lib\\site-packages\\keras\\engine\\training.py\", line 860, in run_step  **\n        outputs = model.train_step(data)\n    File \"c:\\users\\ad\\appdata\\local\\programs\\python\\python39\\lib\\site-packages\\keras\\engine\\training.py\", line 808, in train_step\n        y_pred = self(x, training=True)\n    File \"c:\\users\\ad\\appdata\\local\\programs\\python\\python39\\lib\\site-packages\\keras\\utils\\traceback_utils.py\", line 67, in error_handler\n        raise e.with_traceback(filtered_tb) from None\n    File \"c:\\users\\ad\\appdata\\local\\programs\\python\\python39\\lib\\site-packages\\keras\\engine\\input_spec.py\", line 263, in assert_input_compatibility\n        raise ValueError(f'Input {input_index} of layer \"{layer_name}\" is '\n\n    ValueError: Input 0 of layer \"sequential\" is incompatible with the layer: expected shape=(None, 1, 51), found shape=(None, 1, 88)\n",
     "output_type": "error",
     "traceback": [
      "\u001b[1;31m---------------------------------------------------------------------------\u001b[0m",
      "\u001b[1;31mValueError\u001b[0m                                Traceback (most recent call last)",
      "\u001b[1;32m~\\AppData\\Local\\Temp/ipykernel_7772/2819174381.py\u001b[0m in \u001b[0;36m<module>\u001b[1;34m\u001b[0m\n\u001b[1;32m----> 1\u001b[1;33m history = model.fit(train_X, train_y,validation_data=(val_X, val_y),callbacks = EarlyStopping(\n\u001b[0m\u001b[0;32m      2\u001b[0m             \u001b[0mmonitor\u001b[0m\u001b[1;33m=\u001b[0m\u001b[1;34m'val_loss'\u001b[0m\u001b[1;33m,\u001b[0m\u001b[1;33m\u001b[0m\u001b[1;33m\u001b[0m\u001b[0m\n\u001b[0;32m      3\u001b[0m             \u001b[0mpatience\u001b[0m\u001b[1;33m=\u001b[0m\u001b[1;36m15\u001b[0m\u001b[1;33m,\u001b[0m\u001b[1;33m\u001b[0m\u001b[1;33m\u001b[0m\u001b[0m\n\u001b[0;32m      4\u001b[0m             restore_best_weights=True), \n\u001b[0;32m      5\u001b[0m             epochs=100, batch_size=50, verbose=0,shuffle=False)\n",
      "\u001b[1;32mc:\\users\\ad\\appdata\\local\\programs\\python\\python39\\lib\\site-packages\\keras\\utils\\traceback_utils.py\u001b[0m in \u001b[0;36merror_handler\u001b[1;34m(*args, **kwargs)\u001b[0m\n\u001b[0;32m     65\u001b[0m     \u001b[1;32mexcept\u001b[0m \u001b[0mException\u001b[0m \u001b[1;32mas\u001b[0m \u001b[0me\u001b[0m\u001b[1;33m:\u001b[0m  \u001b[1;31m# pylint: disable=broad-except\u001b[0m\u001b[1;33m\u001b[0m\u001b[1;33m\u001b[0m\u001b[0m\n\u001b[0;32m     66\u001b[0m       \u001b[0mfiltered_tb\u001b[0m \u001b[1;33m=\u001b[0m \u001b[0m_process_traceback_frames\u001b[0m\u001b[1;33m(\u001b[0m\u001b[0me\u001b[0m\u001b[1;33m.\u001b[0m\u001b[0m__traceback__\u001b[0m\u001b[1;33m)\u001b[0m\u001b[1;33m\u001b[0m\u001b[1;33m\u001b[0m\u001b[0m\n\u001b[1;32m---> 67\u001b[1;33m       \u001b[1;32mraise\u001b[0m \u001b[0me\u001b[0m\u001b[1;33m.\u001b[0m\u001b[0mwith_traceback\u001b[0m\u001b[1;33m(\u001b[0m\u001b[0mfiltered_tb\u001b[0m\u001b[1;33m)\u001b[0m \u001b[1;32mfrom\u001b[0m \u001b[1;32mNone\u001b[0m\u001b[1;33m\u001b[0m\u001b[1;33m\u001b[0m\u001b[0m\n\u001b[0m\u001b[0;32m     68\u001b[0m     \u001b[1;32mfinally\u001b[0m\u001b[1;33m:\u001b[0m\u001b[1;33m\u001b[0m\u001b[1;33m\u001b[0m\u001b[0m\n\u001b[0;32m     69\u001b[0m       \u001b[1;32mdel\u001b[0m \u001b[0mfiltered_tb\u001b[0m\u001b[1;33m\u001b[0m\u001b[1;33m\u001b[0m\u001b[0m\n",
      "\u001b[1;32mc:\\users\\ad\\appdata\\local\\programs\\python\\python39\\lib\\site-packages\\tensorflow\\python\\framework\\func_graph.py\u001b[0m in \u001b[0;36mautograph_handler\u001b[1;34m(*args, **kwargs)\u001b[0m\n\u001b[0;32m   1127\u001b[0m           \u001b[1;32mexcept\u001b[0m \u001b[0mException\u001b[0m \u001b[1;32mas\u001b[0m \u001b[0me\u001b[0m\u001b[1;33m:\u001b[0m  \u001b[1;31m# pylint:disable=broad-except\u001b[0m\u001b[1;33m\u001b[0m\u001b[1;33m\u001b[0m\u001b[0m\n\u001b[0;32m   1128\u001b[0m             \u001b[1;32mif\u001b[0m \u001b[0mhasattr\u001b[0m\u001b[1;33m(\u001b[0m\u001b[0me\u001b[0m\u001b[1;33m,\u001b[0m \u001b[1;34m\"ag_error_metadata\"\u001b[0m\u001b[1;33m)\u001b[0m\u001b[1;33m:\u001b[0m\u001b[1;33m\u001b[0m\u001b[1;33m\u001b[0m\u001b[0m\n\u001b[1;32m-> 1129\u001b[1;33m               \u001b[1;32mraise\u001b[0m \u001b[0me\u001b[0m\u001b[1;33m.\u001b[0m\u001b[0mag_error_metadata\u001b[0m\u001b[1;33m.\u001b[0m\u001b[0mto_exception\u001b[0m\u001b[1;33m(\u001b[0m\u001b[0me\u001b[0m\u001b[1;33m)\u001b[0m\u001b[1;33m\u001b[0m\u001b[1;33m\u001b[0m\u001b[0m\n\u001b[0m\u001b[0;32m   1130\u001b[0m             \u001b[1;32melse\u001b[0m\u001b[1;33m:\u001b[0m\u001b[1;33m\u001b[0m\u001b[1;33m\u001b[0m\u001b[0m\n\u001b[0;32m   1131\u001b[0m               \u001b[1;32mraise\u001b[0m\u001b[1;33m\u001b[0m\u001b[1;33m\u001b[0m\u001b[0m\n",
      "\u001b[1;31mValueError\u001b[0m: in user code:\n\n    File \"c:\\users\\ad\\appdata\\local\\programs\\python\\python39\\lib\\site-packages\\keras\\engine\\training.py\", line 878, in train_function  *\n        return step_function(self, iterator)\n    File \"c:\\users\\ad\\appdata\\local\\programs\\python\\python39\\lib\\site-packages\\keras\\engine\\training.py\", line 867, in step_function  **\n        outputs = model.distribute_strategy.run(run_step, args=(data,))\n    File \"c:\\users\\ad\\appdata\\local\\programs\\python\\python39\\lib\\site-packages\\keras\\engine\\training.py\", line 860, in run_step  **\n        outputs = model.train_step(data)\n    File \"c:\\users\\ad\\appdata\\local\\programs\\python\\python39\\lib\\site-packages\\keras\\engine\\training.py\", line 808, in train_step\n        y_pred = self(x, training=True)\n    File \"c:\\users\\ad\\appdata\\local\\programs\\python\\python39\\lib\\site-packages\\keras\\utils\\traceback_utils.py\", line 67, in error_handler\n        raise e.with_traceback(filtered_tb) from None\n    File \"c:\\users\\ad\\appdata\\local\\programs\\python\\python39\\lib\\site-packages\\keras\\engine\\input_spec.py\", line 263, in assert_input_compatibility\n        raise ValueError(f'Input {input_index} of layer \"{layer_name}\" is '\n\n    ValueError: Input 0 of layer \"sequential\" is incompatible with the layer: expected shape=(None, 1, 51), found shape=(None, 1, 88)\n"
     ]
    }
   ],
   "source": [
    "history = model.fit(train_X, train_y,validation_data=(val_X, val_y),callbacks = EarlyStopping(\n",
    "            monitor='val_loss',\n",
    "            patience=15,\n",
    "            restore_best_weights=True), \n",
    "            epochs=100, batch_size=50, verbose=0,shuffle=False)\n",
    "fig, ax = plt.subplots(2, 1, figsize=(14, 12))\n",
    "fig.suptitle('Loss', y=0.93)\n",
    "ax[0].plot(history.history['mae'], label='train')\n",
    "ax[0].plot(history.history['val_mae'], label='val')\n",
    "ax[0].set_title('mae')\n",
    "ax[0].legend(loc='upper right')"
   ]
  },
  {
   "cell_type": "code",
   "execution_count": null,
   "id": "9d4ca92c",
   "metadata": {},
   "outputs": [],
   "source": []
  }
 ],
 "metadata": {
  "kernelspec": {
   "display_name": "Python 3 (ipykernel)",
   "language": "python",
   "name": "python3"
  },
  "language_info": {
   "codemirror_mode": {
    "name": "ipython",
    "version": 3
   },
   "file_extension": ".py",
   "mimetype": "text/x-python",
   "name": "python",
   "nbconvert_exporter": "python",
   "pygments_lexer": "ipython3",
   "version": "3.9.2"
  },
  "toc": {
   "base_numbering": 1,
   "nav_menu": {},
   "number_sections": true,
   "sideBar": true,
   "skip_h1_title": false,
   "title_cell": "Table of Contents",
   "title_sidebar": "Contents",
   "toc_cell": false,
   "toc_position": {},
   "toc_section_display": true,
   "toc_window_display": false
  },
  "varInspector": {
   "cols": {
    "lenName": 16,
    "lenType": 16,
    "lenVar": 40
   },
   "kernels_config": {
    "python": {
     "delete_cmd_postfix": "",
     "delete_cmd_prefix": "del ",
     "library": "var_list.py",
     "varRefreshCmd": "print(var_dic_list())"
    },
    "r": {
     "delete_cmd_postfix": ") ",
     "delete_cmd_prefix": "rm(",
     "library": "var_list.r",
     "varRefreshCmd": "cat(var_dic_list()) "
    }
   },
   "types_to_exclude": [
    "module",
    "function",
    "builtin_function_or_method",
    "instance",
    "_Feature"
   ],
   "window_display": false
  }
 },
 "nbformat": 4,
 "nbformat_minor": 5
}
