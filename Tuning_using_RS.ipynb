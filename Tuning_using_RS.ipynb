{
 "cells": [
  {
   "cell_type": "code",
   "execution_count": null,
   "id": "9fcea9ba",
   "metadata": {
    "ExecuteTime": {
     "end_time": "2023-03-08T06:43:19.747394Z",
     "start_time": "2023-03-08T06:43:13.982388Z"
    }
   },
   "outputs": [],
   "source": [
    "import numpy as np\n",
    "import pandas as pd\n",
    "import os\n",
    "import re\n",
    "import math\n",
    "import random\n",
    "import pickle\n",
    "\n",
    "import matplotlib.dates as mdates\n",
    "from datetime import time\n",
    "xformatter = mdates.DateFormatter('%H:%M')  # for time axis plots\n",
    "import datetime\n",
    "from dateutil.parser import parse\n",
    "from sklearn.metrics import mean_squared_error\n",
    "\n",
    "import seaborn as sns\n",
    "import matplotlib.pyplot as plt\n",
    "import plotly.graph_objects as go\n",
    "%matplotlib inline\n",
    "from matplotlib import style\n",
    "style.use('seaborn-whitegrid')\n",
    "\n",
    "from sklearn.model_selection import RandomizedSearchCV\n",
    "from keras.wrappers.scikit_learn import KerasRegressor\n",
    "from pandas.tseries.frequencies import to_offset\n",
    "from pickle import load,dump\n",
    "from sklearn.preprocessing import MinMaxScaler\n",
    "from sklearn.feature_selection import SelectKBest,f_regression\n",
    "from keras.models import Sequential, load_model\n",
    "from keras.layers import Dense\n",
    "from keras.layers import LSTM,GRU,Bidirectional\n",
    "from keras.models import load_model\n",
    "from keras.callbacks import EarlyStopping\n",
    "from keras.backend import clear_session\n",
    "import warnings\n",
    "warnings.filterwarnings('ignore')"
   ]
  },
  {
   "cell_type": "code",
   "execution_count": null,
   "id": "469844e6",
   "metadata": {
    "ExecuteTime": {
     "end_time": "2023-03-08T06:43:19.762865Z",
     "start_time": "2023-03-08T06:43:19.747394Z"
    }
   },
   "outputs": [],
   "source": [
    "activation_list = ['linear','relu', 'tanh','sigmoid']\n",
    "optimizer_list = ['adam', 'rmsprop','sgd','Adamax']\n",
    "range_neurons = [8,100]\n",
    "selectors = []"
   ]
  },
  {
   "cell_type": "code",
   "execution_count": null,
   "id": "4af84b73",
   "metadata": {
    "ExecuteTime": {
     "end_time": "2023-03-08T06:43:19.778237Z",
     "start_time": "2023-03-08T06:43:19.765473Z"
    }
   },
   "outputs": [],
   "source": [
    "FORMAT_TIME='%Y-%m-%d %H:%M:%S'\n",
    "START_TIME_DAY = time(5,0,0)\n",
    "END_TIME_DAY = time(18,30,0)"
   ]
  },
  {
   "cell_type": "code",
   "execution_count": null,
   "id": "976ad82b",
   "metadata": {
    "ExecuteTime": {
     "end_time": "2023-03-08T06:43:19.794152Z",
     "start_time": "2023-03-08T06:43:19.779250Z"
    }
   },
   "outputs": [],
   "source": [
    "TIME_1_STEP = 15 # minute\n",
    "step_lag_1_day = 24*60//TIME_1_STEP\n",
    "steps_2hours = 60*2//TIME_1_STEP"
   ]
  },
  {
   "cell_type": "code",
   "execution_count": null,
   "id": "8f816a4d",
   "metadata": {
    "ExecuteTime": {
     "end_time": "2023-03-08T06:43:19.810108Z",
     "start_time": "2023-03-08T06:43:19.795192Z"
    }
   },
   "outputs": [],
   "source": [
    "# Nhap du lieu train data\n",
    "def import_train_data(path_file_train):\n",
    "    df = pd.read_csv(path_file_train)\n",
    "    df['TimeStamp'] = pd.to_datetime(df['TimeStamp']\n",
    "                                      )\n",
    "    df = df.set_index('TimeStamp')\n",
    "    return df"
   ]
  },
  {
   "cell_type": "code",
   "execution_count": null,
   "id": "d75cd793",
   "metadata": {
    "ExecuteTime": {
     "end_time": "2023-03-08T06:43:19.825695Z",
     "start_time": "2023-03-08T06:43:19.811161Z"
    }
   },
   "outputs": [],
   "source": [
    "def resample_df(df, resample_time, time_col='TimeStamp'):\n",
    "    \"\"\"\n",
    "    resample_time: `minute`\n",
    "    \"\"\"\n",
    "    resample_df = df.copy()\n",
    "    if resample_time >= 30:\n",
    "        resample_df = resample_df.set_index(\n",
    "            resample_df[time_col] - to_offset(str(resample_time//2)+\"min\"))\n",
    "    resample_df = resample_df.resample(str(resample_time)+'min', label='right').mean()\n",
    "    return resample_df"
   ]
  },
  {
   "cell_type": "code",
   "execution_count": null,
   "id": "475dbdb1",
   "metadata": {
    "ExecuteTime": {
     "end_time": "2023-03-08T06:43:33.250644Z",
     "start_time": "2023-03-08T06:43:19.826490Z"
    }
   },
   "outputs": [],
   "source": [
    "all_plant = import_train_data('./LN2_training.csv')\n",
    "all_plant = resample_df(all_plant, resample_time = 15, time_col='TimeStamp')"
   ]
  },
  {
   "cell_type": "code",
   "execution_count": null,
   "id": "a4ee70b9",
   "metadata": {
    "ExecuteTime": {
     "end_time": "2023-03-08T06:43:33.265795Z",
     "start_time": "2023-03-08T06:43:33.252487Z"
    }
   },
   "outputs": [],
   "source": [
    "# Split train, val data theo ti le 8/2\n",
    "def train_valid_split(df, split_ratio=[0.8, 0.2]):\n",
    "    train_ratio, valid_ratio = split_ratio\n",
    "    assert train_ratio + valid_ratio  == 1.0\n",
    "    n_df = len(df)\n",
    "    # Train / Validation  Split\n",
    "    train_split = int(n_df * train_ratio)\n",
    "    valid_split = int(n_df * (train_ratio + valid_ratio))\n",
    "\n",
    "    train = df[:train_split]\n",
    "    val = df[train_split:valid_split]\n",
    "\n",
    "    print(f'Train set: {len(train)} ')\n",
    "    print(f'Validation set: {len(val)} ')\n",
    "\n",
    "    return train, val "
   ]
  },
  {
   "cell_type": "code",
   "execution_count": null,
   "id": "cd91b9a2",
   "metadata": {
    "ExecuteTime": {
     "end_time": "2023-03-08T06:43:33.282167Z",
     "start_time": "2023-03-08T06:43:33.269657Z"
    }
   },
   "outputs": [],
   "source": [
    "def num_step_1hour(df):\n",
    "    \"\"\"\n",
    "    Get number step of 1 hours\n",
    "    \"\"\"\n",
    "    step_hours = None\n",
    "    if type(df.index) == pd.core.indexes.datetimes.DatetimeIndex:\n",
    "        time_1step = int((df.index[1] - df.index[0]) /\n",
    "                         np.timedelta64(1, 'm'))  # minute\n",
    "        step_hours = 60 // time_1step\n",
    "    return step_hours"
   ]
  },
  {
   "cell_type": "code",
   "execution_count": null,
   "id": "fc51fca2",
   "metadata": {
    "ExecuteTime": {
     "end_time": "2023-03-08T06:43:33.297278Z",
     "start_time": "2023-03-08T06:43:33.283284Z"
    }
   },
   "outputs": [],
   "source": [
    "def make_data_supervised(dt, num_pre_around=5, num_day_pre=3):\n",
    "    step_lag_1_day = num_step_1hour(dt)*24\n",
    "    dt_lag = pd.DataFrame()\n",
    "    for col in dt.columns:\n",
    "        for day_pre in range(num_pre_around+1):\n",
    "            if day_pre == 0:\n",
    "                dt_lag[col+'(t)'] = dt[col]\n",
    "            else:\n",
    "                dt_lag[col+'(t-'+str(day_pre)+')'] = dt[col].shift(day_pre)\n",
    "        for day_pre in range(1, num_day_pre):\n",
    "            step_lag = step_lag_1_day*day_pre\n",
    "            for lag in range(num_pre_around+1):\n",
    "                dt_lag[col+'(t-'+str(step_lag+lag) +\n",
    "                       ')'] = dt[col].shift(step_lag+lag)\n",
    "                dt_lag[col+'(t-'+str(step_lag-lag) +\n",
    "                       ')'] = dt[col].shift(step_lag-lag)\n",
    "    dt_lag = dt_lag.dropna()\n",
    "    dt_lag['hour'] = dt_lag.index.hour\n",
    "    dt_lag['day'] = dt_lag.index.day\n",
    "    dt_lag['day_of_week'] = dt_lag.index.dayofweek\n",
    "    dt_lag['month'] = dt_lag.index.month\n",
    "    dt_lag['day_of_year'] = dt_lag.index.dayofyear\n",
    "    return dt_lag"
   ]
  },
  {
   "cell_type": "code",
   "execution_count": null,
   "id": "97f4c248",
   "metadata": {
    "ExecuteTime": {
     "end_time": "2023-03-08T06:43:33.312982Z",
     "start_time": "2023-03-08T06:43:33.298282Z"
    }
   },
   "outputs": [],
   "source": [
    "def select_Kbest(train,score_f):\n",
    "    X_select = train[train.columns[1:]]\n",
    "    y_select = train['TotW(t)']\n",
    "    bestfeatures = SelectKBest(score_func=score_f, k='all')\n",
    "    fit = bestfeatures.fit(X_select,y_select)\n",
    "    dfscores = pd.DataFrame(fit.scores_)\n",
    "    dfcolumns = pd.DataFrame(X_select.columns)\n",
    "    featureScores = pd.concat([dfcolumns,dfscores],axis=1)\n",
    "    featureScores.columns = ['Specs','Score']  \n",
    "    featureScores = featureScores.sort_values(by='Score', ascending=False)\n",
    "\n",
    "    return featureScores"
   ]
  },
  {
   "cell_type": "code",
   "execution_count": null,
   "id": "287bf48d",
   "metadata": {
    "ExecuteTime": {
     "end_time": "2023-03-08T06:43:33.328299Z",
     "start_time": "2023-03-08T06:43:33.316130Z"
    }
   },
   "outputs": [],
   "source": [
    "def create_model(num_neurons, activation_func, optimizer):\n",
    "    model = Sequential()\n",
    "    model.add(Bidirectional(LSTM(num_neurons, activation=activation_func, input_shape=(1, num_features))))\n",
    "    model.add(Dense(1))\n",
    "    model.compile(loss='mean_squared_error', optimizer=optimizer)\n",
    "    return model"
   ]
  },
  {
   "cell_type": "code",
   "execution_count": null,
   "id": "31b4a760",
   "metadata": {
    "ExecuteTime": {
     "end_time": "2023-03-08T06:43:33.344435Z",
     "start_time": "2023-03-08T06:43:33.330215Z"
    }
   },
   "outputs": [],
   "source": [
    "def get_or_create_path(path):\n",
    "    if os.path.isdir(path) is False:\n",
    "        os.mkdir(path)"
   ]
  },
  {
   "cell_type": "code",
   "execution_count": null,
   "id": "01448621",
   "metadata": {
    "ExecuteTime": {
     "end_time": "2023-03-08T06:43:33.360487Z",
     "start_time": "2023-03-08T06:43:33.346138Z"
    }
   },
   "outputs": [],
   "source": [
    "def scale_func(train, val, path_scale):\n",
    "    get_or_create_path(path_scale)\n",
    "    train_scale_df = pd.DataFrame(index=train.index)\n",
    "    val_scale_df = pd.DataFrame(index=val.index)\n",
    "    \n",
    "    for col in train.columns:\n",
    "        scaler = MinMaxScaler()\n",
    "        train_scale_df[col] = scaler.fit_transform(train[col].values.reshape(-1,1))[:,0]\n",
    "        val_scale_df[col] = scaler.transform(val[col].values.reshape(-1,1))[:,0]\n",
    "        pickle.dump(scaler, open(path_scale + col+'.pkl','ab+'))\n",
    "    return train_scale_df,val_scale_df"
   ]
  },
  {
   "cell_type": "code",
   "execution_count": null,
   "id": "946a359a",
   "metadata": {
    "ExecuteTime": {
     "end_time": "2023-03-08T06:43:33.391083Z",
     "start_time": "2023-03-08T06:43:33.363425Z"
    }
   },
   "outputs": [],
   "source": [
    "def evaluate(neurons, activation, optimizer, number_features):\n",
    "    neurons = round(neurons)\n",
    "    activation = round(activation)\n",
    "    optimizer = round(optimizer)\n",
    "    number_features = round(number_features)\n",
    "    train_X_ = train_X.copy()\n",
    "    val_X_ = val_X.copy()\n",
    "    train_y_ = train_y.copy()\n",
    "    val_y_ = val_y.copy()\n",
    "    print(neurons, activation, optimizer, number_features)\n",
    "    selector = SelectKBest(score_func=f_regression, k=number_features)\n",
    "    train_X_ = train_X_.reshape(train_X_.shape[0], train_X_.shape[2])\n",
    "    val_X_ = val_X_.reshape(val_X_.shape[0], val_X_.shape[2])\n",
    "    train_X_ = selector.fit_transform(train_X_, train_y_)\n",
    "    val_X_ = selector.transform(val_X_)\n",
    "    train_X_ = train_X_.reshape(train_X_.shape[0],1,train_X_.shape[1])\n",
    "    val_X_ = val_X_.reshape(val_X_.shape[0],1,val_X_.shape[1])\n",
    "    print('\\nNumber of neurons: ', neurons,\n",
    "          ', activation function: ', activation_list[activation],\n",
    "          ', optimizer function: ', optimizer_list[optimizer],\n",
    "          ', features: ', number_features)\n",
    "    clear_session()\n",
    "    model = Sequential()\n",
    "\n",
    "    model.add(Bidirectional(LSTM(neurons, activation=activation_list[activation], \n",
    "                                 input_shape=(train_X_.shape[1], train_X_.shape[2])),merge_mode= 'ave'))\n",
    "    model.add(Dense(1))\n",
    "    model.compile(loss='mae',optimizer=optimizer_list[optimizer])\n",
    "\n",
    "    return model"
   ]
  },
  {
   "cell_type": "code",
   "execution_count": null,
   "id": "bf82877b",
   "metadata": {
    "ExecuteTime": {
     "end_time": "2023-03-08T06:43:33.957817Z",
     "start_time": "2023-03-08T06:43:33.393099Z"
    }
   },
   "outputs": [],
   "source": [
    "train_solar, val_solar = train_valid_split(all_plant,split_ratio=[0.8, 0.2]) # split train/val\n",
    "train_scale, val_scale = scale_func(train_solar, val_solar, './LN2/')\n",
    "\n",
    "train_scaler_lag = make_data_supervised(train_scale)\n",
    "val_scaler_lag = make_data_supervised(val_scale)\n",
    "\n",
    "col_analysis = list(train_scaler_lag)\n",
    "train_solar = train_scaler_lag[col_analysis].copy()\n",
    "val_solar = val_scaler_lag[col_analysis].copy()\n",
    "\n",
    "featureScores = select_Kbest(train_solar[col_analysis],f_regression)\n",
    "\n",
    "train_X, train_y= train_solar.values[:, 1:],train_solar.values[:, :1]\n",
    "train_X = train_X.reshape(train_X.shape[0], 1, train_X.shape[1])\n",
    "val_X, val_y = val_solar.values[:, 1:],val_solar.values[:, :1]\n",
    "val_X = val_X.reshape(val_X.shape[0], 1, val_X.shape[1])"
   ]
  },
  {
   "cell_type": "code",
   "execution_count": null,
   "id": "3385e78f",
   "metadata": {
    "ExecuteTime": {
     "end_time": "2023-03-08T06:43:33.973083Z",
     "start_time": "2023-03-08T06:43:33.958815Z"
    }
   },
   "outputs": [],
   "source": [
    "best_activation, best_optimizer, best_neurons, selectors = [], [], [], []\n",
    "param_dist = {'neurons' : range(8,100),\n",
    "               'activation': range(0,3),\n",
    "               'optimizer': range(0,3), \n",
    "               'number_features': range(1, train_X.shape[2] )}"
   ]
  },
  {
   "cell_type": "code",
   "execution_count": null,
   "id": "ae9f84e8",
   "metadata": {
    "ExecuteTime": {
     "end_time": "2023-03-08T06:43:33.989172Z",
     "start_time": "2023-03-08T06:43:33.974958Z"
    }
   },
   "outputs": [],
   "source": [
    "rs_model = KerasRegressor(build_fn=evaluate, epochs=50, batch_size=32, verbose=0)"
   ]
  },
  {
   "cell_type": "code",
   "execution_count": null,
   "id": "93f78133",
   "metadata": {
    "ExecuteTime": {
     "end_time": "2023-03-08T06:43:34.004907Z",
     "start_time": "2023-03-08T06:43:33.991172Z"
    }
   },
   "outputs": [],
   "source": [
    "random_search = RandomizedSearchCV(estimator=rs_model, param_distributions=param_dist, n_iter=20, \n",
    "                                   cv=3, n_jobs = -1, random_state = 3)"
   ]
  },
  {
   "cell_type": "code",
   "execution_count": null,
   "id": "5203fcff",
   "metadata": {
    "ExecuteTime": {
     "end_time": "2023-03-08T08:30:38.343548Z",
     "start_time": "2023-03-08T06:43:34.006790Z"
    },
    "scrolled": true
   },
   "outputs": [],
   "source": [
    "result = random_search.fit(train_X, train_y)"
   ]
  },
  {
   "cell_type": "code",
   "execution_count": null,
   "id": "59b6e6dd",
   "metadata": {
    "ExecuteTime": {
     "end_time": "2023-03-08T08:30:38.389953Z",
     "start_time": "2023-03-08T08:30:38.355975Z"
    }
   },
   "outputs": [],
   "source": [
    "def RS_result(result):\n",
    "    best_neurons = result.best_params_['neurons']\n",
    "    best_activation = result.best_params_['activation']\n",
    "    best_optimizer = result.best_params_['optimizer']\n",
    "    return {\n",
    "        'activations': activation_list[best_activation],\n",
    "        'optimizers': optimizer_list[best_optimizer],\n",
    "        'neurons': best_neurons,\n",
    "        'num_feature': result.best_params_['number_features']\n",
    "    }"
   ]
  },
  {
   "cell_type": "code",
   "execution_count": null,
   "id": "b0170d97",
   "metadata": {
    "ExecuteTime": {
     "end_time": "2023-03-08T08:30:38.406019Z",
     "start_time": "2023-03-08T08:30:38.392933Z"
    }
   },
   "outputs": [],
   "source": [
    "best_choice = RS_result(result)"
   ]
  },
  {
   "cell_type": "code",
   "execution_count": null,
   "id": "122cfba9",
   "metadata": {
    "ExecuteTime": {
     "end_time": "2023-03-08T08:30:38.421539Z",
     "start_time": "2023-03-08T08:30:38.407021Z"
    }
   },
   "outputs": [],
   "source": [
    "best_feature = list(featureScores['Specs'][:result.best_params_['number_features']])"
   ]
  },
  {
   "cell_type": "code",
   "execution_count": null,
   "id": "f326b16e",
   "metadata": {
    "ExecuteTime": {
     "end_time": "2023-03-08T08:30:38.453077Z",
     "start_time": "2023-03-08T08:30:38.423844Z"
    }
   },
   "outputs": [],
   "source": [
    "def make_model(train, val, bo_result):\n",
    "    train_X, train_y = train.values[:, 1:], train.values[:, :1]\n",
    "    train_X = train_X.reshape(train_X.shape[0], 1, train_X.shape[1])\n",
    "\n",
    "    val_X, val_y = val.values[:, 1:], val.values[:, :1]\n",
    "    val_X = val_X.reshape(val_X.shape[0], 1, val_X.shape[1])\n",
    "\n",
    "    model = Sequential()\n",
    "    model.add(\n",
    "        Bidirectional(LSTM(bo_result['num_feature'],\n",
    "             activation=bo_result['activations'],\n",
    "             input_shape=(train_X.shape[1], train_X.shape[2])),merge_mode= 'ave'))   \n",
    "    model.add(Dense(1))\n",
    "    model.compile(loss='mae',\n",
    "                  optimizer=bo_result['optimizers'],\n",
    "                  metrics=['mse', 'mae', 'cosine_proximity'])\n",
    "    # fit network\n",
    "    history = model.fit(train_X,\n",
    "                        train_y,\n",
    "                        epochs=100,\n",
    "                        batch_size=50,\n",
    "                        validation_data=(val_X, val_y),\n",
    "                        verbose=1,\n",
    "                        shuffle=False,\n",
    "                        callbacks=EarlyStopping(monitor='val_loss',\n",
    "                                                patience=15,\n",
    "                                                restore_best_weights=True))\n",
    "    fig, ax = plt.subplots(figsize=(16, 8))\n",
    "    fig.suptitle('Loss', y=0.93)\n",
    "    ax.plot(history.history['mae'], label='train')\n",
    "    ax.plot(history.history['val_mae'], label='val')\n",
    "    ax.set_title('mae')\n",
    "    ax.legend(loc='upper right')\n",
    "    return model"
   ]
  },
  {
   "cell_type": "code",
   "execution_count": null,
   "id": "23118707",
   "metadata": {
    "ExecuteTime": {
     "end_time": "2023-03-08T08:32:37.993056Z",
     "start_time": "2023-03-08T08:30:38.454026Z"
    },
    "scrolled": true
   },
   "outputs": [],
   "source": [
    "best_feature = list(featureScores['Specs'][:result.best_params_['number_features']])\n",
    "pickle.dump(best_feature, open(path_feature + 'best_feature.pkl','wb'))\n",
    "\n",
    "train_solar = train_scaler_lag[['TotW(t)']+best_feature]\n",
    "val_solar = val_scaler_lag[['TotW(t)']+best_feature]\n",
    "\n",
    "model = make_model(train_solar,val_solar,best_choice)\n",
    "model.save(path_model)"
   ]
  },
  {
   "cell_type": "code",
   "execution_count": null,
   "id": "c83feacc",
   "metadata": {},
   "outputs": [],
   "source": []
  }
 ],
 "metadata": {
  "kernelspec": {
   "display_name": "Python 3 (ipykernel)",
   "language": "python",
   "name": "python3"
  },
  "language_info": {
   "codemirror_mode": {
    "name": "ipython",
    "version": 3
   },
   "file_extension": ".py",
   "mimetype": "text/x-python",
   "name": "python",
   "nbconvert_exporter": "python",
   "pygments_lexer": "ipython3",
   "version": "3.9.2"
  },
  "toc": {
   "base_numbering": 1,
   "nav_menu": {},
   "number_sections": true,
   "sideBar": true,
   "skip_h1_title": false,
   "title_cell": "Table of Contents",
   "title_sidebar": "Contents",
   "toc_cell": false,
   "toc_position": {},
   "toc_section_display": true,
   "toc_window_display": false
  },
  "varInspector": {
   "cols": {
    "lenName": 16,
    "lenType": 16,
    "lenVar": 40
   },
   "kernels_config": {
    "python": {
     "delete_cmd_postfix": "",
     "delete_cmd_prefix": "del ",
     "library": "var_list.py",
     "varRefreshCmd": "print(var_dic_list())"
    },
    "r": {
     "delete_cmd_postfix": ") ",
     "delete_cmd_prefix": "rm(",
     "library": "var_list.r",
     "varRefreshCmd": "cat(var_dic_list()) "
    }
   },
   "types_to_exclude": [
    "module",
    "function",
    "builtin_function_or_method",
    "instance",
    "_Feature"
   ],
   "window_display": false
  }
 },
 "nbformat": 4,
 "nbformat_minor": 5
}
