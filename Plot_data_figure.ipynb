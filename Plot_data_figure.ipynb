{
 "cells": [
  {
   "cell_type": "code",
   "execution_count": 1,
   "id": "3a2b0591",
   "metadata": {
    "ExecuteTime": {
     "end_time": "2023-04-13T02:28:52.315626Z",
     "start_time": "2023-04-13T02:28:48.475841Z"
    }
   },
   "outputs": [],
   "source": [
    "import numpy as np\n",
    "import pandas as pd\n",
    "import os\n",
    "import re\n",
    "import math\n",
    "import random\n",
    "import pickle\n",
    "\n",
    "\n",
    "from datetime import datetime\n",
    "from datetime import date\n",
    "from datetime import time\n",
    "import matplotlib.dates as mdates\n",
    "from datetime import time\n",
    "xformatter = mdates.DateFormatter('%H:%M')  # for time axis plots\n",
    "import datetime\n",
    "from dateutil.parser import parse\n",
    "from sklearn.metrics import mean_squared_error\n",
    "import seaborn as sns\n",
    "import matplotlib.pyplot as plt\n",
    "import plotly.graph_objects as go\n",
    "%matplotlib inline\n",
    "from matplotlib import style\n",
    "style.use('seaborn-whitegrid')\n",
    "\n",
    "from pandas.tseries.frequencies import to_offset\n",
    "from pickle import load,dump\n",
    "import warnings\n",
    "warnings.filterwarnings('ignore')"
   ]
  },
  {
   "cell_type": "markdown",
   "id": "8e4d43d2",
   "metadata": {},
   "source": [
    "- Plot data month 2,3 LN2 to check\n"
   ]
  },
  {
   "cell_type": "code",
   "execution_count": 2,
   "id": "b5f18035",
   "metadata": {
    "ExecuteTime": {
     "end_time": "2023-04-13T02:29:52.372740Z",
     "start_time": "2023-04-13T02:29:52.331582Z"
    }
   },
   "outputs": [],
   "source": [
    "data = pd.read_csv('./LN2_month23.csv')"
   ]
  },
  {
   "cell_type": "code",
   "execution_count": 4,
   "id": "c33db9f7",
   "metadata": {
    "ExecuteTime": {
     "end_time": "2023-04-13T02:35:50.680293Z",
     "start_time": "2023-04-13T02:35:50.641198Z"
    }
   },
   "outputs": [],
   "source": [
    "data['TimeStamp'] = pd.to_datetime(data['TimeStamp'])"
   ]
  },
  {
   "cell_type": "code",
   "execution_count": 16,
   "id": "7c46ce2b",
   "metadata": {
    "ExecuteTime": {
     "end_time": "2023-04-13T03:42:22.557113Z",
     "start_time": "2023-04-13T03:42:22.530919Z"
    }
   },
   "outputs": [],
   "source": [
    "data_ln = data.loc[data['TimeStamp'].dt.date>=date(year=2023,month=2,day=9)]\n",
    "data_ln = data_ln.loc[data_ln['TimeStamp'].dt.date<=date(year=2023,month=2,day=13)]"
   ]
  },
  {
   "cell_type": "code",
   "execution_count": 17,
   "id": "a20c365a",
   "metadata": {
    "ExecuteTime": {
     "end_time": "2023-04-13T03:42:22.992610Z",
     "start_time": "2023-04-13T03:42:22.964937Z"
    }
   },
   "outputs": [
    {
     "data": {
      "text/html": [
       "<div>\n",
       "<style scoped>\n",
       "    .dataframe tbody tr th:only-of-type {\n",
       "        vertical-align: middle;\n",
       "    }\n",
       "\n",
       "    .dataframe tbody tr th {\n",
       "        vertical-align: top;\n",
       "    }\n",
       "\n",
       "    .dataframe thead th {\n",
       "        text-align: right;\n",
       "    }\n",
       "</style>\n",
       "<table border=\"1\" class=\"dataframe\">\n",
       "  <thead>\n",
       "    <tr style=\"text-align: right;\">\n",
       "      <th></th>\n",
       "      <th>TimeStamp</th>\n",
       "      <th>LNI2_POI_MMXU1_totW</th>\n",
       "      <th>LNI2_Subs_WS_RadPOA</th>\n",
       "      <th>LNI2_Subs_WS_RadGHI</th>\n",
       "      <th>LNI2_Subs_WS_AirTemp</th>\n",
       "    </tr>\n",
       "  </thead>\n",
       "  <tbody>\n",
       "    <tr>\n",
       "      <th>2304</th>\n",
       "      <td>2023-02-09 00:00:00</td>\n",
       "      <td>0.0</td>\n",
       "      <td>0.0</td>\n",
       "      <td>0.0</td>\n",
       "      <td>25.56329</td>\n",
       "    </tr>\n",
       "    <tr>\n",
       "      <th>2305</th>\n",
       "      <td>2023-02-09 00:05:00</td>\n",
       "      <td>0.0</td>\n",
       "      <td>0.0</td>\n",
       "      <td>0.0</td>\n",
       "      <td>25.49184</td>\n",
       "    </tr>\n",
       "    <tr>\n",
       "      <th>2306</th>\n",
       "      <td>2023-02-09 00:10:00</td>\n",
       "      <td>0.0</td>\n",
       "      <td>0.0</td>\n",
       "      <td>0.0</td>\n",
       "      <td>25.42039</td>\n",
       "    </tr>\n",
       "    <tr>\n",
       "      <th>2307</th>\n",
       "      <td>2023-02-09 00:15:00</td>\n",
       "      <td>0.0</td>\n",
       "      <td>0.0</td>\n",
       "      <td>0.0</td>\n",
       "      <td>25.34894</td>\n",
       "    </tr>\n",
       "    <tr>\n",
       "      <th>2308</th>\n",
       "      <td>2023-02-09 00:20:00</td>\n",
       "      <td>0.0</td>\n",
       "      <td>0.0</td>\n",
       "      <td>0.0</td>\n",
       "      <td>25.27748</td>\n",
       "    </tr>\n",
       "    <tr>\n",
       "      <th>...</th>\n",
       "      <td>...</td>\n",
       "      <td>...</td>\n",
       "      <td>...</td>\n",
       "      <td>...</td>\n",
       "      <td>...</td>\n",
       "    </tr>\n",
       "    <tr>\n",
       "      <th>3739</th>\n",
       "      <td>2023-02-13 23:35:00</td>\n",
       "      <td>0.0</td>\n",
       "      <td>0.0</td>\n",
       "      <td>0.0</td>\n",
       "      <td>25.96352</td>\n",
       "    </tr>\n",
       "    <tr>\n",
       "      <th>3740</th>\n",
       "      <td>2023-02-13 23:40:00</td>\n",
       "      <td>0.0</td>\n",
       "      <td>0.0</td>\n",
       "      <td>0.0</td>\n",
       "      <td>25.92802</td>\n",
       "    </tr>\n",
       "    <tr>\n",
       "      <th>3741</th>\n",
       "      <td>2023-02-13 23:45:00</td>\n",
       "      <td>0.0</td>\n",
       "      <td>0.0</td>\n",
       "      <td>0.0</td>\n",
       "      <td>25.89251</td>\n",
       "    </tr>\n",
       "    <tr>\n",
       "      <th>3742</th>\n",
       "      <td>2023-02-13 23:50:00</td>\n",
       "      <td>0.0</td>\n",
       "      <td>0.0</td>\n",
       "      <td>0.0</td>\n",
       "      <td>25.85701</td>\n",
       "    </tr>\n",
       "    <tr>\n",
       "      <th>3743</th>\n",
       "      <td>2023-02-13 23:55:00</td>\n",
       "      <td>0.0</td>\n",
       "      <td>0.0</td>\n",
       "      <td>0.0</td>\n",
       "      <td>25.82150</td>\n",
       "    </tr>\n",
       "  </tbody>\n",
       "</table>\n",
       "<p>1440 rows × 5 columns</p>\n",
       "</div>"
      ],
      "text/plain": [
       "               TimeStamp  LNI2_POI_MMXU1_totW  LNI2_Subs_WS_RadPOA  \\\n",
       "2304 2023-02-09 00:00:00                  0.0                  0.0   \n",
       "2305 2023-02-09 00:05:00                  0.0                  0.0   \n",
       "2306 2023-02-09 00:10:00                  0.0                  0.0   \n",
       "2307 2023-02-09 00:15:00                  0.0                  0.0   \n",
       "2308 2023-02-09 00:20:00                  0.0                  0.0   \n",
       "...                  ...                  ...                  ...   \n",
       "3739 2023-02-13 23:35:00                  0.0                  0.0   \n",
       "3740 2023-02-13 23:40:00                  0.0                  0.0   \n",
       "3741 2023-02-13 23:45:00                  0.0                  0.0   \n",
       "3742 2023-02-13 23:50:00                  0.0                  0.0   \n",
       "3743 2023-02-13 23:55:00                  0.0                  0.0   \n",
       "\n",
       "      LNI2_Subs_WS_RadGHI  LNI2_Subs_WS_AirTemp  \n",
       "2304                  0.0              25.56329  \n",
       "2305                  0.0              25.49184  \n",
       "2306                  0.0              25.42039  \n",
       "2307                  0.0              25.34894  \n",
       "2308                  0.0              25.27748  \n",
       "...                   ...                   ...  \n",
       "3739                  0.0              25.96352  \n",
       "3740                  0.0              25.92802  \n",
       "3741                  0.0              25.89251  \n",
       "3742                  0.0              25.85701  \n",
       "3743                  0.0              25.82150  \n",
       "\n",
       "[1440 rows x 5 columns]"
      ]
     },
     "execution_count": 17,
     "metadata": {},
     "output_type": "execute_result"
    }
   ],
   "source": [
    "data_ln"
   ]
  },
  {
   "cell_type": "code",
   "execution_count": 15,
   "id": "88f15b1f",
   "metadata": {
    "ExecuteTime": {
     "end_time": "2023-04-13T03:42:02.423799Z",
     "start_time": "2023-04-13T03:42:02.081534Z"
    },
    "scrolled": false
   },
   "outputs": [
    {
     "data": {
      "image/png": "[encoded data removed]",
      "text/plain": [
       "<Figure size 1440x576 with 1 Axes>"
      ]
     },
     "metadata": {},
     "output_type": "display_data"
    }
   ],
   "source": [
    "plt.figure(figsize=(20,8))\n",
    "plt.title('file_solar')\n",
    "plt.plot(data_ln['LNI2_POI_MMXU1_totW'], label='P')\n",
    "plt.plot(data_ln['LNI2_Subs_WS_RadGHI'],label='I')\n",
    "plt.legend()\n",
    "plt.grid(True)\n",
    "plt.show()"
   ]
  },
  {
   "cell_type": "code",
   "execution_count": null,
   "id": "8802833c",
   "metadata": {},
   "outputs": [],
   "source": []
  },
  {
   "cell_type": "code",
   "execution_count": null,
   "id": "f9dcdc15",
   "metadata": {},
   "outputs": [],
   "source": []
  },
  {
   "cell_type": "code",
   "execution_count": null,
   "id": "39821306",
   "metadata": {},
   "outputs": [],
   "source": []
  },
  {
   "cell_type": "code",
   "execution_count": null,
   "id": "81a3bc60",
   "metadata": {
    "ExecuteTime": {
     "end_time": "2023-03-24T02:57:40.033404Z",
     "start_time": "2023-03-24T02:57:40.024051Z"
    }
   },
   "outputs": [],
   "source": [
    "path_files = './img/3/4H/'\n",
    "files = os.listdir(path_files)\n",
    "len(files)"
   ]
  },
  {
   "cell_type": "code",
   "execution_count": null,
   "id": "e949722e",
   "metadata": {
    "ExecuteTime": {
     "end_time": "2023-03-24T02:50:56.680634Z",
     "start_time": "2023-03-24T02:50:41.536379Z"
    }
   },
   "outputs": [],
   "source": [
    "df = pd.DataFrame()\n",
    "for file in files:\n",
    "    if file.endswith('.csv'):\n",
    "        file_path = os.path.join(path_files, file)\n",
    "        temp_df = pd.read_csv(file_path)\n",
    "        df = pd.concat([df, temp_df])"
   ]
  },
  {
   "cell_type": "code",
   "execution_count": null,
   "id": "aff12ff1",
   "metadata": {},
   "outputs": [],
   "source": []
  },
  {
   "cell_type": "code",
   "execution_count": null,
   "id": "1c88bd54",
   "metadata": {
    "ExecuteTime": {
     "end_time": "2023-03-24T02:50:57.627571Z",
     "start_time": "2023-03-24T02:50:57.608495Z"
    }
   },
   "outputs": [],
   "source": [
    "df = df.rename(columns={'Unnamed: 0': 'TimeStamp', 'TotW':'Power_forecast'})"
   ]
  },
  {
   "cell_type": "code",
   "execution_count": null,
   "id": "e8c4c8de",
   "metadata": {
    "ExecuteTime": {
     "end_time": "2023-04-11T02:41:15.629179Z",
     "start_time": "2023-04-11T02:41:15.576130Z"
    }
   },
   "outputs": [],
   "source": [
    "data_power = pd.read_csv('./LN2_month23.csv')"
   ]
  },
  {
   "cell_type": "code",
   "execution_count": null,
   "id": "8a7d3a92",
   "metadata": {
    "ExecuteTime": {
     "end_time": "2023-04-11T02:41:39.046655Z",
     "start_time": "2023-04-11T02:41:39.008459Z"
    }
   },
   "outputs": [],
   "source": [
    "data_power['TimeStamp'] = pd.to_datetime(data_power['TimeStamp'])"
   ]
  },
  {
   "cell_type": "code",
   "execution_count": null,
   "id": "c6895d9f",
   "metadata": {
    "ExecuteTime": {
     "end_time": "2023-04-11T02:42:49.836594Z",
     "start_time": "2023-04-11T02:42:49.823234Z"
    }
   },
   "outputs": [],
   "source": [
    "data_power = data_power.rename(columns={'LNI2_POI_MMXU1_totW': 'TotW'})"
   ]
  },
  {
   "cell_type": "code",
   "execution_count": null,
   "id": "1a9746a1",
   "metadata": {
    "ExecuteTime": {
     "end_time": "2023-04-11T02:43:11.907040Z",
     "start_time": "2023-04-11T02:43:11.895831Z"
    }
   },
   "outputs": [],
   "source": [
    "data_power = data_power.set_index('TimeStamp')"
   ]
  },
  {
   "cell_type": "code",
   "execution_count": null,
   "id": "2c11001f",
   "metadata": {
    "ExecuteTime": {
     "end_time": "2023-04-11T02:43:31.150997Z",
     "start_time": "2023-04-11T02:43:31.133642Z"
    }
   },
   "outputs": [],
   "source": [
    "df = data_power[['TotW']]"
   ]
  },
  {
   "cell_type": "code",
   "execution_count": null,
   "id": "eb7d581d",
   "metadata": {
    "ExecuteTime": {
     "end_time": "2023-04-11T02:43:35.279919Z",
     "start_time": "2023-04-11T02:43:35.254611Z"
    }
   },
   "outputs": [],
   "source": [
    "df"
   ]
  },
  {
   "cell_type": "code",
   "execution_count": null,
   "id": "75597a1d",
   "metadata": {
    "ExecuteTime": {
     "end_time": "2023-04-11T02:44:30.847234Z",
     "start_time": "2023-04-11T02:44:30.805410Z"
    }
   },
   "outputs": [],
   "source": [
    "df_resample = resample_df(df, resample_time = 15, time_col='TimeStamp')"
   ]
  },
  {
   "cell_type": "code",
   "execution_count": null,
   "id": "e64c11be",
   "metadata": {
    "ExecuteTime": {
     "end_time": "2023-04-11T02:44:33.795077Z",
     "start_time": "2023-04-11T02:44:33.767069Z"
    }
   },
   "outputs": [],
   "source": [
    "df_resample"
   ]
  },
  {
   "cell_type": "code",
   "execution_count": null,
   "id": "97e32d1b",
   "metadata": {
    "ExecuteTime": {
     "end_time": "2023-04-11T02:45:27.402650Z",
     "start_time": "2023-04-11T02:45:27.358745Z"
    }
   },
   "outputs": [],
   "source": [
    "data_weather = pd.read_csv('./LN_weather_23.csv')"
   ]
  },
  {
   "cell_type": "code",
   "execution_count": null,
   "id": "ee19a3ef",
   "metadata": {
    "ExecuteTime": {
     "end_time": "2023-04-11T02:46:13.833135Z",
     "start_time": "2023-04-11T02:46:13.810152Z"
    }
   },
   "outputs": [],
   "source": [
    "data_weather['TimeStamp'] = pd.to_datetime(data_weather['TimeStamp'])\n",
    "data_weather = data_weather.set_index('TimeStamp')"
   ]
  },
  {
   "cell_type": "code",
   "execution_count": null,
   "id": "699050db",
   "metadata": {
    "ExecuteTime": {
     "end_time": "2023-04-11T02:46:36.951851Z",
     "start_time": "2023-04-11T02:46:36.928720Z"
    }
   },
   "outputs": [],
   "source": [
    "data_weather_rf = resample_df(data_weather, resample_time = 15, time_col='TimeStamp')"
   ]
  },
  {
   "cell_type": "code",
   "execution_count": null,
   "id": "1f397e91",
   "metadata": {
    "ExecuteTime": {
     "end_time": "2023-04-11T02:46:41.342418Z",
     "start_time": "2023-04-11T02:46:41.326837Z"
    }
   },
   "outputs": [],
   "source": [
    "data_weather_rf"
   ]
  },
  {
   "cell_type": "code",
   "execution_count": null,
   "id": "d91fda3b",
   "metadata": {
    "ExecuteTime": {
     "end_time": "2023-04-11T02:47:21.532772Z",
     "start_time": "2023-04-11T02:47:21.503119Z"
    }
   },
   "outputs": [],
   "source": [
    "data = pd.concat([df_resample,data_weather_rf], axis = 1).dropna()"
   ]
  },
  {
   "cell_type": "code",
   "execution_count": null,
   "id": "131d2e87",
   "metadata": {
    "ExecuteTime": {
     "end_time": "2023-04-11T02:47:54.748527Z",
     "start_time": "2023-04-11T02:47:54.695404Z"
    }
   },
   "outputs": [],
   "source": [
    "data.to_csv('./test_LN2_23.csv')"
   ]
  },
  {
   "cell_type": "code",
   "execution_count": null,
   "id": "42f1dbcf",
   "metadata": {},
   "outputs": [],
   "source": []
  },
  {
   "cell_type": "code",
   "execution_count": null,
   "id": "8142af46",
   "metadata": {
    "ExecuteTime": {
     "end_time": "2023-03-24T02:51:00.075462Z",
     "start_time": "2023-03-24T02:51:00.039682Z"
    }
   },
   "outputs": [],
   "source": [
    "df['TimeStamp'] = pd.to_datetime(df['TimeStamp'])\n",
    "df = df.set_index('TimeStamp')\n",
    "df = df[~df.index.duplicated(keep='last')]\n",
    "df = df.sort_index()\n"
   ]
  },
  {
   "cell_type": "code",
   "execution_count": null,
   "id": "a5977e6b",
   "metadata": {
    "ExecuteTime": {
     "end_time": "2023-03-24T02:51:00.669164Z",
     "start_time": "2023-03-24T02:51:00.646955Z"
    }
   },
   "outputs": [],
   "source": [
    "df"
   ]
  },
  {
   "cell_type": "code",
   "execution_count": null,
   "id": "e8c603f6",
   "metadata": {
    "ExecuteTime": {
     "end_time": "2023-03-24T02:51:25.699649Z",
     "start_time": "2023-03-24T02:51:25.672051Z"
    }
   },
   "outputs": [],
   "source": [
    "b = pd.read_csv('./LN3_month10.csv')\n",
    "b['TimeStamp'] = pd.to_datetime(b['TimeStamp'])"
   ]
  },
  {
   "cell_type": "code",
   "execution_count": null,
   "id": "3160eb4b",
   "metadata": {
    "ExecuteTime": {
     "end_time": "2023-03-24T02:51:50.134187Z",
     "start_time": "2023-03-24T02:51:50.120850Z"
    }
   },
   "outputs": [],
   "source": [
    "b = b.set_index('TimeStamp')"
   ]
  },
  {
   "cell_type": "code",
   "execution_count": null,
   "id": "81ba4bf2",
   "metadata": {
    "ExecuteTime": {
     "end_time": "2023-04-11T02:43:49.970085Z",
     "start_time": "2023-04-11T02:43:49.958187Z"
    }
   },
   "outputs": [],
   "source": [
    "def resample_df(df, resample_time, time_col='TimeStamp'):\n",
    "    \"\"\"\n",
    "    resample_time: `minute`\n",
    "    \"\"\"\n",
    "    resample_df = df.copy()\n",
    "    if resample_time >= 30:\n",
    "        resample_df = resample_df.set_index(\n",
    "            resample_df[time_col] - to_offset(str(resample_time//2)+\"min\"))\n",
    "    resample_df = resample_df.resample(str(resample_time)+'min', label='right').mean()\n",
    "    return resample_df"
   ]
  },
  {
   "cell_type": "code",
   "execution_count": null,
   "id": "146e0d91",
   "metadata": {
    "ExecuteTime": {
     "end_time": "2023-03-24T02:51:57.108837Z",
     "start_time": "2023-03-24T02:51:57.088115Z"
    }
   },
   "outputs": [],
   "source": [
    "c = resample_df(b, resample_time = 15, time_col='TimeStamp')"
   ]
  },
  {
   "cell_type": "code",
   "execution_count": null,
   "id": "df11706a",
   "metadata": {
    "ExecuteTime": {
     "end_time": "2023-03-24T02:51:58.026841Z",
     "start_time": "2023-03-24T02:51:58.008219Z"
    }
   },
   "outputs": [],
   "source": [
    "c"
   ]
  },
  {
   "cell_type": "code",
   "execution_count": null,
   "id": "66faa599",
   "metadata": {
    "ExecuteTime": {
     "end_time": "2023-03-23T10:27:50.930399Z",
     "start_time": "2023-03-23T10:27:50.916267Z"
    }
   },
   "outputs": [],
   "source": [
    "c = c.reset_index()"
   ]
  },
  {
   "cell_type": "code",
   "execution_count": null,
   "id": "acf61caf",
   "metadata": {
    "ExecuteTime": {
     "end_time": "2023-03-24T02:52:49.084254Z",
     "start_time": "2023-03-24T02:52:49.066067Z"
    }
   },
   "outputs": [],
   "source": [
    "c= c.rename(columns={'LNI3_POI_MMXU1_totW': 'Power_reality'})"
   ]
  },
  {
   "cell_type": "code",
   "execution_count": null,
   "id": "a1c6f7ae",
   "metadata": {
    "ExecuteTime": {
     "end_time": "2023-03-24T02:53:20.209374Z",
     "start_time": "2023-03-24T02:53:20.191766Z"
    }
   },
   "outputs": [],
   "source": [
    "d = pd.concat([c, df], axis = 1).dropna()"
   ]
  },
  {
   "cell_type": "code",
   "execution_count": null,
   "id": "dc9148f7",
   "metadata": {
    "ExecuteTime": {
     "end_time": "2023-03-24T02:54:54.778119Z",
     "start_time": "2023-03-24T02:54:54.592659Z"
    }
   },
   "outputs": [],
   "source": [
    "plt.figure(figsize=(20,8))\n",
    "plt.title('file_solar')\n",
    "plt.plot(d['Power_reality'], label='Reality')\n",
    "plt.plot(d['Power_forecast'],label='Forecast')\n",
    "plt.legend()\n",
    "plt.grid(True)\n",
    "plt.show()"
   ]
  },
  {
   "cell_type": "code",
   "execution_count": null,
   "id": "e1ebb7a0",
   "metadata": {
    "ExecuteTime": {
     "end_time": "2023-03-23T10:27:53.092700Z",
     "start_time": "2023-03-23T10:27:53.061117Z"
    }
   },
   "outputs": [],
   "source": [
    "data_ln = c.loc[c['TimeStamp'].dt.date>=date(year=2022,month=7,day=1)]\n",
    "data_ln = data_ln.loc[data_ln['TimeStamp'].dt.date<=date(year=2022,month=9,day=30)]"
   ]
  },
  {
   "cell_type": "code",
   "execution_count": null,
   "id": "57062aab",
   "metadata": {
    "ExecuteTime": {
     "end_time": "2023-03-23T10:27:54.902201Z",
     "start_time": "2023-03-23T10:27:54.893429Z"
    }
   },
   "outputs": [],
   "source": [
    "data_ln = data_ln.set_index('TimeStamp')"
   ]
  },
  {
   "cell_type": "code",
   "execution_count": null,
   "id": "3eaa8805",
   "metadata": {},
   "outputs": [],
   "source": []
  },
  {
   "cell_type": "code",
   "execution_count": null,
   "id": "e9ae47f2",
   "metadata": {},
   "outputs": [],
   "source": []
  }
 ],
 "metadata": {
  "kernelspec": {
   "display_name": "Python 3 (ipykernel)",
   "language": "python",
   "name": "python3"
  },
  "language_info": {
   "codemirror_mode": {
    "name": "ipython",
    "version": 3
   },
   "file_extension": ".py",
   "mimetype": "text/x-python",
   "name": "python",
   "nbconvert_exporter": "python",
   "pygments_lexer": "ipython3",
   "version": "3.9.2"
  },
  "toc": {
   "base_numbering": 1,
   "nav_menu": {},
   "number_sections": true,
   "sideBar": true,
   "skip_h1_title": false,
   "title_cell": "Table of Contents",
   "title_sidebar": "Contents",
   "toc_cell": false,
   "toc_position": {},
   "toc_section_display": true,
   "toc_window_display": false
  },
  "varInspector": {
   "cols": {
    "lenName": 16,
    "lenType": 16,
    "lenVar": 40
   },
   "kernels_config": {
    "python": {
     "delete_cmd_postfix": "",
     "delete_cmd_prefix": "del ",
     "library": "var_list.py",
     "varRefreshCmd": "print(var_dic_list())"
    },
    "r": {
     "delete_cmd_postfix": ") ",
     "delete_cmd_prefix": "rm(",
     "library": "var_list.r",
     "varRefreshCmd": "cat(var_dic_list()) "
    }
   },
   "types_to_exclude": [
    "module",
    "function",
    "builtin_function_or_method",
    "instance",
    "_Feature"
   ],
   "window_display": false
  }
 },
 "nbformat": 4,
 "nbformat_minor": 5
}
